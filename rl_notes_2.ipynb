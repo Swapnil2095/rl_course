{
 "cells": [
  {
   "cell_type": "markdown",
   "metadata": {},
   "source": [
    "# Reinforcement Learning Notes 2\n",
    "\n",
    "(An edited write-up is [on my blog](https://krisztiankovacs.com/rl-notes-2/))\n",
    "\n",
    "This week was all about two tools to solve MDPs: **policy iteration** and **value iteration**. Both of them are applications of the Bellman equation. However, here I will try to explain both without any math, and without any Bellman equations.\n",
    "    \n",
    "## Frozen Lake\n",
    "\n",
    "The example I'll use is the frozen lake environment of Openai."
   ]
  },
  {
   "cell_type": "code",
   "execution_count": 1,
   "metadata": {
    "scrolled": true
   },
   "outputs": [],
   "source": [
    "%matplotlib inline\n",
    "%load_ext autoreload\n",
    "%autoreload 2\n",
    "import numpy as np\n",
    "import gym\n",
    "import matplotlib.pyplot as plt\n",
    "\n",
    "import utils_fl"
   ]
  },
  {
   "cell_type": "code",
   "execution_count": 2,
   "metadata": {
    "scrolled": true
   },
   "outputs": [
    {
     "data": {
      "image/png": "[encoded data removed]",
      "text/plain": [
       "<matplotlib.figure.Figure at 0x7f5ae89509e8>"
      ]
     },
     "metadata": {},
     "output_type": "display_data"
    }
   ],
   "source": [
    "env = gym.make('FrozenLake-v0')\n",
    "utils_fl.env2img(env, 'start_pos')"
   ]
  },
  {
   "cell_type": "markdown",
   "metadata": {},
   "source": [
    "It is a similar gridworld to the one covered [last week](https://krisztiankovacs.com/reinforcement_learning/2018/09/19/rl-notes-1.html). We start at the top left (at the X), and try to move to the orange square in the bottom right, where we get our reward of + 1 and the game ends. If we move to a black square, we fall into a hole: the game ends without a reward.\n",
    "\n",
    "There is one important complication: as we move on the blue tiles, we might slip to the side, and end up in a tile different from the one we intended. There is a 33% chance that we move correctly, and a 33% chance for landing in either side. For example, if we want to move down, we might slip to the left or to the right. We never slip to the opposite direction of our action though. \n",
    "\n",
    "As mentioned above, there two ways to solve this game."
   ]
  },
  {
   "cell_type": "markdown",
   "metadata": {},
   "source": [
    "# Value Iteration\n",
    "\n",
    "Our goal here is to find the state value function under optimal policy. That means each square will be assigned a number, representing its 'value'. Once we have that, finding the optimal policy will be easy.\n",
    "\n",
    "How do we find the state value function? We work iteratively. We first initialize all values to 0. We then find then optimal action for each tile. The optimal action is the one that maximizes the expected return (the immediate reward + discounted future value). Once we have that, we assign to the tile the expected return. We iterate until the state value function converges.\n",
    "\n",
    "To make our agent prefer shorter paths (i.e. finish the game earlier than later), we set a discount factor of 99%."
   ]
  },
  {
   "cell_type": "code",
   "execution_count": 3,
   "metadata": {
    "scrolled": true
   },
   "outputs": [],
   "source": [
    "GAMMA = 0.99"
   ]
  },
  {
   "cell_type": "code",
   "execution_count": 4,
   "metadata": {
    "scrolled": true
   },
   "outputs": [],
   "source": [
    "def getExpectedActionValue(s, a, V, env, g): \n",
    "    '''Gives expected return of action \"a\" in state \"s\" (immediate reward + discounted future value)'''\n",
    "    return sum(prob*(reward + g*V[state]) for prob, state, reward, _ in env.env.P[s][a])\n",
    "\n",
    "def getOptimalFromState(s, V, env, g):\n",
    "    '''Gives the best possible return in state \"s\" from all actions'''\n",
    "    vals = np.array([getExpectedActionValue(s, a, V, env, g) for a in env.env.P[s].keys()])\n",
    "    return (vals.max(), vals.argmax())\n",
    "\n",
    "def getNextV(V, env, g, pi = None):\n",
    "    '''Gives the next iteration of the value function.'''\n",
    "    res = np.zeros(V.shape)\n",
    "    for s in range(env.env.nS):\n",
    "        if pi is None:\n",
    "            res[s], _ = getOptimalFromState(s, V, env, g)\n",
    "        else:\n",
    "            res[s] = getExpectedActionValue(s, pi[s], V, env, g)\n",
    "    return res"
   ]
  },
  {
   "cell_type": "markdown",
   "metadata": {},
   "source": [
    "For example, here are the first three iterations of our state value function:"
   ]
  },
  {
   "cell_type": "code",
   "execution_count": 5,
   "metadata": {
    "scrolled": true
   },
   "outputs": [
    {
     "data": {
      "image/png": "[encoded data removed]",
      "text/plain": [
       "<matplotlib.figure.Figure at 0x7f5ab4073358>"
      ]
     },
     "metadata": {},
     "output_type": "display_data"
    }
   ],
   "source": [
    "f = plt.figure(figsize = (20, 4))\n",
    "V = np.zeros(env.env.nS)\n",
    "\n",
    "for i in range(4):\n",
    "    ax = f.add_subplot(1, 4, i+1)\n",
    "    ax.set_title(f'Iteration {i}')\n",
    "    utils_fl.plotV(V, env)\n",
    "    V = getNextV(V, env, GAMMA)"
   ]
  },
  {
   "cell_type": "markdown",
   "metadata": {},
   "source": [
    "We do this process until our value function converges. "
   ]
  },
  {
   "cell_type": "code",
   "execution_count": 6,
   "metadata": {
    "scrolled": true
   },
   "outputs": [
    {
     "data": {
      "image/png": "[encoded data removed]",
      "text/plain": [
       "<matplotlib.figure.Figure at 0x7f5ab4073320>"
      ]
     },
     "metadata": {},
     "output_type": "display_data"
    }
   ],
   "source": [
    "def ValueIter(env, g, pi = None, eps = 1e-10, maxiter = 10000):\n",
    "    \n",
    "    '''Applies value iteration if pi = None. If pi (policy) is given, it applies policy evaluation'''\n",
    "    \n",
    "    V = np.zeros(env.env.nS); flag_success = False \n",
    "    \n",
    "    for i in range(maxiter):\n",
    "        V_old = V.copy()\n",
    "        V = getNextV(V, env, g, pi)\n",
    "        \n",
    "        if np.max(np.abs(V - V_old)) < eps:\n",
    "            flag_success = True\n",
    "            break\n",
    "    assert flag_success\n",
    "    \n",
    "    return (V, i)\n",
    "\n",
    "V_value_iter, _ = ValueIter(env, g = GAMMA)\n",
    "utils_fl.plotV(V_value_iter, env)"
   ]
  },
  {
   "cell_type": "markdown",
   "metadata": {},
   "source": [
    "Let's do a check. Suppose we are on third row, second column (value 0.64). What's our best action? To move down, obviously. With 33% we end up left or right. What is our return? $0.99 * \\frac{1}{3}*(0.62 +0.74 +0.59) = 0.64$. It checks out.\n",
    "\n",
    "Now, let's get our optimal policy. As a reminder, a policy is an action for every square. It's easy to find it: for every square let's look at what would maximize our return according to the state value function we derived."
   ]
  },
  {
   "cell_type": "code",
   "execution_count": 7,
   "metadata": {
    "scrolled": true
   },
   "outputs": [
    {
     "data": {
      "image/png": "[encoded data removed]",
      "text/plain": [
       "<matplotlib.figure.Figure at 0x7f5ab3dc86a0>"
      ]
     },
     "metadata": {},
     "output_type": "display_data"
    }
   ],
   "source": [
    "def getPath(V, env, g):\n",
    "    '''Gets the optimal path according to state-value function V.'''\n",
    "    path = np.zeros(env.env.nS)\n",
    "    for s in range(env.env.nS):\n",
    "        _, path[s] = getOptimalFromState(s, V, env, g)\n",
    "    return path\n",
    "\n",
    "path_value_iter = getPath(V_value_iter, env, 1)\n",
    "utils_fl.plotPath(path_value_iter, env)"
   ]
  },
  {
   "cell_type": "markdown",
   "metadata": {},
   "source": [
    "(For those wondering why we move 'left' at the start: because if we do, the only movement we can take is 'slipping' down.)"
   ]
  },
  {
   "cell_type": "markdown",
   "metadata": {},
   "source": [
    "## Policy Iteration\n",
    "\n",
    "A second way to solve MDPs is policy iteration. \n",
    "\n",
    "We start with an arbitrary policy. In this example, I'll choose to always move right.\n",
    "\n",
    "Next we do a policy evaluation step: calculating the state value function under the given policy. As a reminder, the value of a state under a policy is the immediate reward + discounted value of the state we end up in. We iteratively update our value function until it converges, just as in the previous section. The key difference: we choose our action based on the given policy (not the optimal one).\n",
    "\n",
    "Policy evaluation gives us a state value function. For example, here is the value function for always moving to the right:"
   ]
  },
  {
   "cell_type": "code",
   "execution_count": 8,
   "metadata": {
    "scrolled": true
   },
   "outputs": [
    {
     "data": {
      "image/png": "[encoded data removed]",
      "text/plain": [
       "<matplotlib.figure.Figure at 0x7f5ab40a1d30>"
      ]
     },
     "metadata": {},
     "output_type": "display_data"
    }
   ],
   "source": [
    "pi_start = np.array([2 for i in range(env.env.nS)])\n",
    "V, _ = ValueIter(env, GAMMA, pi_start)\n",
    "\n",
    "utils_fl.plotPathAndV(pi_start, V, env)"
   ]
  },
  {
   "cell_type": "markdown",
   "metadata": {},
   "source": [
    "Now we change our policy according to this value function. That gives us a new policy."
   ]
  },
  {
   "cell_type": "code",
   "execution_count": 9,
   "metadata": {
    "scrolled": true
   },
   "outputs": [
    {
     "data": {
      "image/png": "[encoded data removed]",
      "text/plain": [
       "<matplotlib.figure.Figure at 0x7f5ab3fa9ef0>"
      ]
     },
     "metadata": {},
     "output_type": "display_data"
    }
   ],
   "source": [
    "pinew = getPath(V, env, GAMMA)\n",
    "V, _ = ValueIter(env, GAMMA, pinew)\n",
    "\n",
    "utils_fl.plotPathAndV(pinew, V, env)"
   ]
  },
  {
   "cell_type": "markdown",
   "metadata": {},
   "source": [
    "To summarize, our process looks like this:\n",
    "\n",
    "initial policy -> policy evaluation -> policy improvement -> policy evaluation -> policy improvement -> ... \n",
    "\n",
    "We keep on repeating this process until convergence."
   ]
  },
  {
   "cell_type": "code",
   "execution_count": 10,
   "metadata": {
    "scrolled": true
   },
   "outputs": [],
   "source": [
    "def policyIter(env, g, maxiter = 1000):\n",
    "    \n",
    "    '''Finds optimal policy using policy iteration.'''\n",
    "    \n",
    "    # Start by always going to the right\n",
    "    pi = np.array([2 for i in range(env.env.nS)])\n",
    "    flag_success = False\n",
    "    \n",
    "    for i in range(maxiter):\n",
    "        pi_old = pi.copy()\n",
    "        V, _ = ValueIter(env, g, pi)  # Policy evaluation step\n",
    "        pi = getPath(V, env, g)  # Policy Improvement step\n",
    "        if np.all(pi == pi_old):\n",
    "            flag_success = True\n",
    "            break\n",
    "            \n",
    "    assert flag_success\n",
    "    return (pi, V)  "
   ]
  },
  {
   "cell_type": "code",
   "execution_count": 11,
   "metadata": {
    "scrolled": true
   },
   "outputs": [
    {
     "data": {
      "image/png": "[encoded data removed]",
      "text/plain": [
       "<matplotlib.figure.Figure at 0x7f5ab3f60668>"
      ]
     },
     "metadata": {},
     "output_type": "display_data"
    }
   ],
   "source": [
    "path_pol_iter, V_pol_iter = policyIter(env, GAMMA)\n",
    "utils_fl.plotPathAndV(path_pol_iter, V_pol_iter, env)"
   ]
  },
  {
   "cell_type": "markdown",
   "metadata": {},
   "source": [
    "## Comparing Value and Policy Iteration\n",
    "\n",
    "Do they give the same policy? Yes, they do."
   ]
  },
  {
   "cell_type": "code",
   "execution_count": 12,
   "metadata": {
    "scrolled": true
   },
   "outputs": [
    {
     "data": {
      "text/plain": [
       "True"
      ]
     },
     "execution_count": 12,
     "metadata": {},
     "output_type": "execute_result"
    }
   ],
   "source": [
    "all(path_pol_iter == path_value_iter)"
   ]
  },
  {
   "cell_type": "markdown",
   "metadata": {},
   "source": [
    "What about runtime? In our example, policy iteration is somewhat faster: 180 ms vs 280 ms."
   ]
  },
  {
   "cell_type": "code",
   "execution_count": 13,
   "metadata": {
    "scrolled": true
   },
   "outputs": [
    {
     "name": "stdout",
     "output_type": "stream",
     "text": [
      "CPU times: user 163 ms, sys: 8.57 ms, total: 172 ms\n",
      "Wall time: 158 ms\n"
     ]
    }
   ],
   "source": [
    "%%time\n",
    "path, V = policyIter(env, 1)"
   ]
  },
  {
   "cell_type": "code",
   "execution_count": 14,
   "metadata": {
    "scrolled": true
   },
   "outputs": [
    {
     "name": "stdout",
     "output_type": "stream",
     "text": [
      "CPU times: user 331 ms, sys: 25.4 ms, total: 357 ms\n",
      "Wall time: 323 ms\n"
     ]
    }
   ],
   "source": [
    "%%time\n",
    "V, _ = ValueIter(env, 1)\n",
    "path = getPath(V, env, 1)"
   ]
  },
  {
   "cell_type": "markdown",
   "metadata": {},
   "source": [
    "What reward do would our policy get in the game? Since not all games are won, the outcome is random. On average, our reward is about 0.75, which is equivalent to getting to the target cell about 75% of the time."
   ]
  },
  {
   "cell_type": "code",
   "execution_count": 15,
   "metadata": {
    "scrolled": true
   },
   "outputs": [
    {
     "name": "stdout",
     "output_type": "stream",
     "text": [
      "Average Return from 1000 simulations is 0.754\n"
     ]
    }
   ],
   "source": [
    "def runPolicy(policy, maxiter = 1000, do_render = True, env_name = 'FrozenLake-v0'):\n",
    "    temp_env = gym.make(env_name)\n",
    "    s = temp_env.reset()\n",
    "    cum_reward = 0\n",
    "    for k in range(maxiter):\n",
    "        if do_render: \n",
    "            temp_env.render()\n",
    "        s, r, done, _ = temp_env.step(int(policy[s]))\n",
    "        cum_reward += r\n",
    "        if done:\n",
    "            break\n",
    "    if do_render: \n",
    "        temp_env.close()\n",
    "    return cum_reward\n",
    "\n",
    "def simAvgReward(policy, iterations = 1000, env_name = 'FrozenLake-v0'):\n",
    "    totalRewards = 0\n",
    "    for i in range(iterations):\n",
    "        totalRewards += runPolicy(policy, do_render=False, env_name=env_name)\n",
    "    print(f'Average Return from {iterations} simulations is {totalRewards / iterations}')\n",
    "    return None\n",
    "\n",
    "simAvgReward(path_value_iter)"
   ]
  },
  {
   "cell_type": "markdown",
   "metadata": {},
   "source": [
    "We can visualize the outcome of a single run with the following:"
   ]
  },
  {
   "cell_type": "code",
   "execution_count": 1,
   "metadata": {
    "scrolled": true
   },
   "outputs": [],
   "source": [
    "# runPolicy(path_value_iter)"
   ]
  },
  {
   "cell_type": "markdown",
   "metadata": {},
   "source": [
    "## Frozen Lake 8x8"
   ]
  },
  {
   "cell_type": "code",
   "execution_count": 17,
   "metadata": {},
   "outputs": [
    {
     "data": {
      "image/png": "[encoded data removed]",
      "text/plain": [
       "<matplotlib.figure.Figure at 0x7f5ab3f01588>"
      ]
     },
     "metadata": {},
     "output_type": "display_data"
    }
   ],
   "source": [
    "env = gym.make('FrozenLake8x8-v0')\n",
    "utils_fl.env2img(env, 'start_pos')"
   ]
  },
  {
   "cell_type": "markdown",
   "metadata": {},
   "source": [
    "This setting seems to have a very uninteresting solution: just walk on the top and on the right! Let's see if my intuition is correct. Let's apply no discounting, so our agent doesn't care how long his path takes."
   ]
  },
  {
   "cell_type": "code",
   "execution_count": 18,
   "metadata": {},
   "outputs": [],
   "source": [
    "pol_8x8, V_8x8 = policyIter(env, g = 1)"
   ]
  },
  {
   "cell_type": "code",
   "execution_count": 19,
   "metadata": {},
   "outputs": [
    {
     "data": {
      "image/png": "[encoded data removed]",
      "text/plain": [
       "<matplotlib.figure.Figure at 0x7f5ab3cf5b38>"
      ]
     },
     "metadata": {},
     "output_type": "display_data"
    }
   ],
   "source": [
    "utils_fl.plotPath(pol_8x8, env)"
   ]
  },
  {
   "cell_type": "code",
   "execution_count": 20,
   "metadata": {},
   "outputs": [
    {
     "name": "stdout",
     "output_type": "stream",
     "text": [
      "Average Return from 1000 simulations is 0.895\n"
     ]
    }
   ],
   "source": [
    "simAvgReward(pol_8x8, env_name='FrozenLake8x8-v0')"
   ]
  },
  {
   "cell_type": "markdown",
   "metadata": {},
   "source": [
    "We don't achieve perfect reward, because frozenlake caps the number of time-steps at 200. So in the cases we lost, we simply wandered for 200 steps without falling into a hole or getting the reward."
   ]
  }
 ],
 "metadata": {
  "kernelspec": {
   "display_name": "Python 3",
   "language": "python",
   "name": "python3"
  },
  "language_info": {
   "codemirror_mode": {
    "name": "ipython",
    "version": 3
   },
   "file_extension": ".py",
   "mimetype": "text/x-python",
   "name": "python",
   "nbconvert_exporter": "python",
   "pygments_lexer": "ipython3",
   "version": "3.6.4"
  }
 },
 "nbformat": 4,
 "nbformat_minor": 2
}
