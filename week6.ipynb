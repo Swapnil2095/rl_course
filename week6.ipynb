{
  "nbformat": 4,
  "nbformat_minor": 0,
  "metadata": {
    "colab": {
      "name": "week6.ipynb",
      "version": "0.3.2",
      "provenance": [],
      "collapsed_sections": []
    },
    "kernelspec": {
      "name": "python3",
      "display_name": "Python 3"
    },
    "accelerator": "GPU"
  },
  "cells": [
    {
      "metadata": {
        "id": "gvpH3w8-W09R",
        "colab_type": "text"
      },
      "cell_type": "markdown",
      "source": [
        "## Learn to Play video Game \n",
        "\n",
        "Remember: put everything on GPU!!"
      ]
    },
    {
      "metadata": {
        "id": "31WbqFWCW7lY",
        "colab_type": "code",
        "colab": {}
      },
      "cell_type": "code",
      "source": [
        "# Install Pytorch\n",
        "from os.path import exists\n",
        "from wheel.pep425tags import get_abbr_impl, get_impl_ver, get_abi_tag\n",
        "platform = '{}{}-{}'.format(get_abbr_impl(), get_impl_ver(), get_abi_tag())\n",
        "cuda_output = !ldconfig -p|grep cudart.so|sed -e 's/.*\\.\\([0-9]*\\)\\.\\([0-9]*\\)$/cu\\1\\2/'\n",
        "accelerator = cuda_output[0] if exists('/dev/nvidia0') else 'cpu'\n",
        "\n",
        "!pip install -q http://download.pytorch.org/whl/{accelerator}/torch-0.4.1-{platform}-linux_x86_64.whl torchvision"
      ],
      "execution_count": 0,
      "outputs": []
    },
    {
      "metadata": {
        "id": "nWjQjAk9aAJ3",
        "colab_type": "code",
        "outputId": "34d02538-b29e-43e3-9199-160689a93fe1",
        "colab": {
          "base_uri": "https://localhost:8080/",
          "height": 160
        }
      },
      "cell_type": "code",
      "source": [
        "# Needed to get the gym environment working\n",
        "!apt-get install swig3.0\n",
        "!ln -s /usr/bin/swig3.0 /usr/bin/swig\n",
        "!pip3 install box2d box2d-kengz"
      ],
      "execution_count": 2,
      "outputs": [
        {
          "output_type": "stream",
          "text": [
            "Reading package lists... Done\n",
            "Building dependency tree       \n",
            "Reading state information... Done\n",
            "swig3.0 is already the newest version (3.0.12-1).\n",
            "0 upgraded, 0 newly installed, 0 to remove and 5 not upgraded.\n",
            "ln: failed to create symbolic link '/usr/bin/swig': File exists\n",
            "Requirement already satisfied: box2d in /usr/local/lib/python3.6/dist-packages (2.3.2)\n",
            "Requirement already satisfied: box2d-kengz in /usr/local/lib/python3.6/dist-packages (2.3.3)\n"
          ],
          "name": "stdout"
        }
      ]
    },
    {
      "metadata": {
        "id": "KjdDsscOXNRy",
        "colab_type": "code",
        "outputId": "71184da4-d76d-4625-811f-9c450500dd23",
        "colab": {
          "base_uri": "https://localhost:8080/",
          "height": 214
        }
      },
      "cell_type": "code",
      "source": [
        "!pip install gym"
      ],
      "execution_count": 3,
      "outputs": [
        {
          "output_type": "stream",
          "text": [
            "Requirement already satisfied: gym in /usr/local/lib/python3.6/dist-packages (0.10.9)\n",
            "Requirement already satisfied: scipy in /usr/local/lib/python3.6/dist-packages (from gym) (1.1.0)\n",
            "Requirement already satisfied: numpy>=1.10.4 in /usr/local/lib/python3.6/dist-packages (from gym) (1.14.6)\n",
            "Requirement already satisfied: pyglet>=1.2.0 in /usr/local/lib/python3.6/dist-packages (from gym) (1.3.2)\n",
            "Requirement already satisfied: requests>=2.0 in /usr/local/lib/python3.6/dist-packages (from gym) (2.18.4)\n",
            "Requirement already satisfied: six in /usr/local/lib/python3.6/dist-packages (from gym) (1.11.0)\n",
            "Requirement already satisfied: future in /usr/local/lib/python3.6/dist-packages (from pyglet>=1.2.0->gym) (0.16.0)\n",
            "Requirement already satisfied: urllib3<1.23,>=1.21.1 in /usr/local/lib/python3.6/dist-packages (from requests>=2.0->gym) (1.22)\n",
            "Requirement already satisfied: chardet<3.1.0,>=3.0.2 in /usr/local/lib/python3.6/dist-packages (from requests>=2.0->gym) (3.0.4)\n",
            "Requirement already satisfied: idna<2.7,>=2.5 in /usr/local/lib/python3.6/dist-packages (from requests>=2.0->gym) (2.6)\n",
            "Requirement already satisfied: certifi>=2017.4.17 in /usr/local/lib/python3.6/dist-packages (from requests>=2.0->gym) (2018.10.15)\n"
          ],
          "name": "stdout"
        }
      ]
    },
    {
      "metadata": {
        "id": "P445gVILW09W",
        "colab_type": "code",
        "colab": {}
      },
      "cell_type": "code",
      "source": [
        "%matplotlib inline\n",
        "%load_ext autoreload\n",
        "%autoreload 2"
      ],
      "execution_count": 0,
      "outputs": []
    },
    {
      "metadata": {
        "id": "5JhN-kQeW09j",
        "colab_type": "code",
        "colab": {}
      },
      "cell_type": "code",
      "source": [
        "import numpy as np\n",
        "import gym\n",
        "import copy\n",
        "\n",
        "from tqdm import tqdm\n",
        "\n",
        "import matplotlib.pyplot as plt\n",
        "from IPython import display\n",
        "plt.style.use('seaborn')\n",
        "\n",
        "from collections import deque\n",
        "\n",
        "import torch\n",
        "import torch.nn as nn\n",
        "from torch.utils.data import Dataset, DataLoader\n",
        "import torch.optim as optim\n",
        "\n",
        "np.random.seed(1)"
      ],
      "execution_count": 0,
      "outputs": []
    },
    {
      "metadata": {
        "id": "H9KlB7NcW091",
        "colab_type": "code",
        "outputId": "b1943335-61d6-4ce1-d05c-59378b21416e",
        "colab": {
          "base_uri": "https://localhost:8080/",
          "height": 73
        }
      },
      "cell_type": "code",
      "source": [
        "ENV = gym.make('LunarLander-v2')\n",
        "NS = ENV.observation_space.shape[0]  \n",
        "NA = 1\n",
        "DEFAULT_PARAMS = {'bn':10, 'bs':256, 'gamma':0.9, 'ns':NS, 'na':NA}\n",
        "LR = 1e-4"
      ],
      "execution_count": 6,
      "outputs": [
        {
          "output_type": "stream",
          "text": [
            "/usr/local/lib/python3.6/dist-packages/gym/envs/registration.py:14: PkgResourcesDeprecationWarning: Parameters to load are deprecated.  Call .resolve and .require separately.\n",
            "  result = entry_point.load(False)\n"
          ],
          "name": "stderr"
        }
      ]
    },
    {
      "metadata": {
        "id": "rDv1s6AhW09-",
        "colab_type": "code",
        "outputId": "4ef32326-1280-4a35-b96c-3ad33cea64ff",
        "colab": {
          "base_uri": "https://localhost:8080/",
          "height": 35
        }
      },
      "cell_type": "code",
      "source": [
        "print(ENV.observation_space, ENV.action_space)"
      ],
      "execution_count": 7,
      "outputs": [
        {
          "output_type": "stream",
          "text": [
            "Box(8,) Discrete(4)\n"
          ],
          "name": "stdout"
        }
      ]
    },
    {
      "metadata": {
        "id": "6PisYx8iW0-G",
        "colab_type": "code",
        "outputId": "7fe0ca94-bd0a-43d6-b0f0-a7cc15bcf591",
        "colab": {
          "base_uri": "https://localhost:8080/",
          "height": 53
        }
      },
      "cell_type": "code",
      "source": [
        "ENV.reset()"
      ],
      "execution_count": 8,
      "outputs": [
        {
          "output_type": "execute_result",
          "data": {
            "text/plain": [
              "array([-0.00472307,  1.415428  , -0.4784209 ,  0.20033912,  0.00547975,\n",
              "        0.10836941,  0.        ,  0.        ], dtype=float32)"
            ]
          },
          "metadata": {
            "tags": []
          },
          "execution_count": 8
        }
      ]
    },
    {
      "metadata": {
        "id": "Q6ZoEn8vW0-S",
        "colab_type": "code",
        "colab": {}
      },
      "cell_type": "code",
      "source": [
        "class RandomAgent():\n",
        "    \n",
        "    def __init__(self, env, clip_reward = False):\n",
        "        self.env = env\n",
        "        self.max_rounds = int(1e4)\n",
        "        self.clip_reward = clip_reward\n",
        "        self.n = 0  # Number of exploration rounds\n",
        "        \n",
        "    def randomAction(self):\n",
        "        return self.env.action_space.sample()\n",
        "    \n",
        "    def pi(self, state, explore):\n",
        "        return self.randomAction()\n",
        "    \n",
        "    def playPol(self, save_frames = False, explore = False):\n",
        "        '''Plays a game from start to finish. '''\n",
        "        \n",
        "        if explore: self.n += 1\n",
        "            \n",
        "        state = self.env.reset()\n",
        "        frames = []; reward = 0\n",
        "        self.history = deque()\n",
        "        for i in range(self.max_rounds):       \n",
        "            if save_frames: frames.append(self.env.render(mode = 'rgb_array'))\n",
        "            action = self.pi(state, explore)\n",
        "            newstate, r, done, _ = self.env.step(action)\n",
        "            self.history.append((state, action, r, done, newstate))\n",
        "            if self.clip_reward:\n",
        "                r = max(min(r, 1), -1)\n",
        "            reward += r\n",
        "            if done: break\n",
        "        if save_frames: self.env.close()\n",
        "        return (reward, frames)"
      ],
      "execution_count": 0,
      "outputs": []
    },
    {
      "metadata": {
        "id": "IivvsKblW0-r",
        "colab_type": "code",
        "colab": {}
      },
      "cell_type": "code",
      "source": [
        "random_guy = RandomAgent(ENV)"
      ],
      "execution_count": 0,
      "outputs": []
    },
    {
      "metadata": {
        "id": "WhrcjWp0bIpP",
        "colab_type": "code",
        "outputId": "2d7994e0-0709-4d60-ca63-a4b8a5190a8d",
        "colab": {
          "base_uri": "https://localhost:8080/",
          "height": 35
        }
      },
      "cell_type": "code",
      "source": [
        "random_guy.playPol()"
      ],
      "execution_count": 11,
      "outputs": [
        {
          "output_type": "execute_result",
          "data": {
            "text/plain": [
              "(-216.1838227117045, [])"
            ]
          },
          "metadata": {
            "tags": []
          },
          "execution_count": 11
        }
      ]
    },
    {
      "metadata": {
        "id": "zuYK69tErAWF",
        "colab_type": "code",
        "outputId": "c3e30374-2ffa-4e9c-e2e1-22b1ddaa33a0",
        "colab": {
          "base_uri": "https://localhost:8080/",
          "height": 143
        }
      },
      "cell_type": "code",
      "source": [
        "random_guy.history[3]"
      ],
      "execution_count": 12,
      "outputs": [
        {
          "output_type": "execute_result",
          "data": {
            "text/plain": [
              "(array([ 0.005655  ,  1.4103663 ,  0.5727736 , -0.0246282 , -0.00654593,\n",
              "        -0.12974174,  0.        ,  0.        ], dtype=float32),\n",
              " 0,\n",
              " -0.9294738261610576,\n",
              " False,\n",
              " array([ 0.02838745,  1.4022259 ,  0.57387084, -0.13061185, -0.03495537,\n",
              "        -0.13539419,  0.        ,  0.        ], dtype=float32))"
            ]
          },
          "metadata": {
            "tags": []
          },
          "execution_count": 12
        }
      ]
    },
    {
      "metadata": {
        "id": "vhcxoHFXeLxh",
        "colab_type": "text"
      },
      "cell_type": "markdown",
      "source": [
        "## Create Neural Net Architecture\n",
        "\n",
        "The task is pretty simple: take the inputs (8), and return the Q function (the value of each action). That is a NN with 8 inputs, 4 outputs, as many hidden layers as we want"
      ]
    },
    {
      "metadata": {
        "id": "MtIdybtCecha",
        "colab_type": "code",
        "colab": {}
      },
      "cell_type": "code",
      "source": [
        "arch = nn.Sequential(nn.BatchNorm1d(8, affine = False),\n",
        "                    nn.Linear(8, 50), \n",
        "                    nn.LeakyReLU(inplace = True), \n",
        "                    nn.BatchNorm1d(50), \n",
        "                    nn.Linear(50, 4))           "
      ],
      "execution_count": 0,
      "outputs": []
    },
    {
      "metadata": {
        "id": "emLJ6uKFkrjv",
        "colab_type": "code",
        "outputId": "5b5f9f52-1d3c-4230-ed94-7e6cf64b9a0c",
        "colab": {
          "base_uri": "https://localhost:8080/",
          "height": 35
        }
      },
      "cell_type": "code",
      "source": [
        "state = torch.tensor(ENV.reset()[None])\n",
        "arch.eval()\n",
        "with torch.no_grad():\n",
        "    print(arch(state).numpy()[0])"
      ],
      "execution_count": 14,
      "outputs": [
        {
          "output_type": "stream",
          "text": [
            "[ 0.05454669  0.06599295 -0.04727311 -0.01109632]\n"
          ],
          "name": "stdout"
        }
      ]
    },
    {
      "metadata": {
        "id": "yUh7nURXjP9-",
        "colab_type": "text"
      },
      "cell_type": "markdown",
      "source": [
        "## Create Deep Q Agent"
      ]
    },
    {
      "metadata": {
        "id": "PfDufXZQlo6J",
        "colab_type": "code",
        "colab": {}
      },
      "cell_type": "code",
      "source": [
        "class DQAgent(RandomAgent):\n",
        "    \n",
        "    def __init__(self, env, arch):\n",
        "        super().__init__(env)\n",
        "        self.arch = arch\n",
        "    \n",
        "    def getQ(self, state):\n",
        "        self.arch.eval()\n",
        "        with torch.no_grad():\n",
        "            inp = torch.tensor(state[None])\n",
        "            return self.arch(inp).numpy()[0]\n",
        "        \n",
        "    def getOptimalAction(self, state):\n",
        "        return np.argmax(self.getQ(state))\n",
        "    \n",
        "    def get_exp_frac(self, low_lim = 0.05, high_lim = 0.9999, n_taper = 1e-4):\n",
        "        n = self.n\n",
        "        #frac = low_lim + high_lim  / (1 + n * n_taper)\n",
        "        frac = high_lim - (high_lim - low_lim) * n * n_taper\n",
        "        self.exp_frac = max(min(frac, high_lim), low_lim)\n",
        "        \n",
        "    def playPol(self, save_frames = False, explore = False):\n",
        "        \n",
        "        self.get_exp_frac()\n",
        "        return super().playPol(save_frames, explore)\n",
        "    \n",
        "    def do_exploration(self):\n",
        "        return np.random.rand() < self.exp_frac        \n",
        "    \n",
        "    def pi(self, state, explore = False):\n",
        "        if explore and self.do_exploration():\n",
        "            return self.randomAction()\n",
        "        else:\n",
        "            return self.getOptimalAction(state)"
      ],
      "execution_count": 0,
      "outputs": []
    },
    {
      "metadata": {
        "id": "fpWXhxr_mzEq",
        "colab_type": "code",
        "outputId": "fb50ad40-1dc0-40e8-b192-36b046d3f3c9",
        "colab": {
          "base_uri": "https://localhost:8080/",
          "height": 35
        }
      },
      "cell_type": "code",
      "source": [
        "dqn_guy = DQAgent(ENV, arch)\n",
        "dqn_guy.playPol()"
      ],
      "execution_count": 16,
      "outputs": [
        {
          "output_type": "execute_result",
          "data": {
            "text/plain": [
              "(-170.79260856829626, [])"
            ]
          },
          "metadata": {
            "tags": []
          },
          "execution_count": 16
        }
      ]
    },
    {
      "metadata": {
        "id": "9BlxaZq0ofVw",
        "colab_type": "text"
      },
      "cell_type": "markdown",
      "source": [
        "## Create a buffer of experience replay"
      ]
    },
    {
      "metadata": {
        "id": "z0SoOO73pOU4",
        "colab_type": "code",
        "colab": {}
      },
      "cell_type": "code",
      "source": [
        "class Buffer_Filler():\n",
        "    def __init__(self, agent, buffer_size = 200, params = DEFAULT_PARAMS):\n",
        "        self.buffer_size = buffer_size\n",
        "        self.agent = agent\n",
        "        self.ns = params['ns']\n",
        "        self.na = params['na']\n",
        "        \n",
        "    def init_empty(self):\n",
        "        states = np.zeros((self.buffer_size, self.ns))\n",
        "        actions = np.zeros((self.buffer_size, self.na))\n",
        "        dones = np.zeros((self.buffer_size, 1))\n",
        "        rewards = np.zeros((self.buffer_size, 1))\n",
        "        next_states = states.copy()\n",
        "        self.buffer = (states, actions, dones, rewards, next_states)\n",
        "    \n",
        "    def fill_buffer(self):\n",
        "        self.init_empty()\n",
        "        (states, actions, rewards, dones, next_states) = self.buffer\n",
        "        \n",
        "        i = 0\n",
        "        while i < self.buffer_size:\n",
        "            self.agent.playPol(explore = True)\n",
        "            n = len(self.agent.history)\n",
        "            for j in range(n):\n",
        "                s, a, r, d, nst = self.agent.history.popleft()\n",
        "                idx = i + j\n",
        "                if idx >= self.buffer_size:\n",
        "                    break\n",
        "                states[idx, :] = s; actions[idx, :] = a; dones[idx, :] = d \n",
        "                rewards[idx, :] = r; next_states[idx, :] = nst\n",
        "            i += n\n",
        "        self.buffer = (states, actions, rewards, dones, next_states)"
      ],
      "execution_count": 0,
      "outputs": []
    },
    {
      "metadata": {
        "id": "RR8ZxPiJE-kq",
        "colab_type": "code",
        "colab": {}
      },
      "cell_type": "code",
      "source": [
        "bf = Buffer_Filler(dqn_guy)"
      ],
      "execution_count": 0,
      "outputs": []
    },
    {
      "metadata": {
        "id": "PS-RO0CWJfxz",
        "colab_type": "code",
        "colab": {}
      },
      "cell_type": "code",
      "source": [
        "bf.fill_buffer()"
      ],
      "execution_count": 0,
      "outputs": []
    },
    {
      "metadata": {
        "id": "r3S9K6b6M6KB",
        "colab_type": "code",
        "outputId": "6568a2a8-3908-40ae-abcd-ac6387634227",
        "colab": {
          "base_uri": "https://localhost:8080/",
          "height": 143
        }
      },
      "cell_type": "code",
      "source": [
        "bf.buffer[0][13], bf.buffer[1][13], bf.buffer[2][13], bf.buffer[3][13], bf.buffer[4][13], "
      ],
      "execution_count": 20,
      "outputs": [
        {
          "output_type": "execute_result",
          "data": {
            "text/plain": [
              "(array([-0.00220852,  1.3982991 , -0.22371809, -0.56094223,  0.00256595,\n",
              "         0.05067556,  0.        ,  0.        ]),\n",
              " array([3.]),\n",
              " array([-1.0254488]),\n",
              " array([0.]),\n",
              " array([-0.03361387,  1.18950188, -0.22794297, -0.786632  ,  0.04646631,\n",
              "         0.08570468,  0.        ,  0.        ]))"
            ]
          },
          "metadata": {
            "tags": []
          },
          "execution_count": 20
        }
      ]
    },
    {
      "metadata": {
        "id": "bUhlPa9VLeTh",
        "colab_type": "text"
      },
      "cell_type": "markdown",
      "source": [
        "## Create a mini-batch of experience"
      ]
    },
    {
      "metadata": {
        "id": "dgeYgHdtXqSj",
        "colab_type": "code",
        "colab": {}
      },
      "cell_type": "code",
      "source": [
        "class replay_Dataset(Dataset):\n",
        "    \n",
        "    def __init__(self, states, actions, y):\n",
        "        super().__init__()\n",
        "        \n",
        "        self.size = states.shape[0]        \n",
        "        assert self.size == actions.shape[0]\n",
        "        assert self.size == y.shape[0]\n",
        "        \n",
        "        self.states = states\n",
        "        self.actions = actions\n",
        "        self.y = y\n",
        "        \n",
        "    def __len__(self):\n",
        "        return self.size\n",
        "    \n",
        "    def __getitem__(self, idx):\n",
        "        return self.states[idx], self.actions[idx], self.y[idx]"
      ],
      "execution_count": 0,
      "outputs": []
    },
    {
      "metadata": {
        "id": "TDCG-CWJNwe4",
        "colab_type": "code",
        "colab": {}
      },
      "cell_type": "code",
      "source": [
        "class Minibatcher(Buffer_Filler):\n",
        "    \n",
        "    ## Later: 10 batches of 128\n",
        "    \n",
        "    def __init__(self, agent, params = DEFAULT_PARAMS):\n",
        "        \n",
        "        self.bn = params['bn']\n",
        "        self.bs = params['bs']\n",
        "        super().__init__(agent, self.bn*self.bs, params)\n",
        "        \n",
        "        self.gamma = params['gamma']\n",
        "        self.eval_arch = copy.deepcopy(self.agent.arch)\n",
        "        self.eval_arch.eval()\n",
        "        \n",
        "        \n",
        "    def getX(self):\n",
        "        return (torch.tensor(self.buffer[0], dtype = torch.float32),\n",
        "                torch.tensor(self.buffer[1], dtype = torch.int64))\n",
        "        \n",
        "    def getY(self):\n",
        "        \n",
        "        __, __, rewards, dones, next_states = self.buffer\n",
        "        next_states = torch.tensor(next_states, dtype = torch.float32)\n",
        "        \n",
        "        \n",
        "        with torch.no_grad():\n",
        "            next_values = self.eval_arch(next_states).max(1)[0]\n",
        "            \n",
        "        done_mask = torch.ByteTensor(dones)\n",
        "        next_values[done_mask.squeeze()] = 0.0\n",
        "        \n",
        "        rewards = torch.tensor(rewards, dtype = torch.float32).squeeze()\n",
        "        \n",
        "        expected_values = next_values.squeeze() * self.gamma + rewards\n",
        "        \n",
        "        return expected_values\n",
        "        \n",
        "    def createDS(self):\n",
        "        self.fill_buffer()\n",
        "        states, actions = self.getX()\n",
        "        y = self.getY()\n",
        "        self.ds = replay_Dataset(states, actions, y)\n",
        "        \n",
        "    def createDL(self):\n",
        "        self.createDS()\n",
        "        self.dl = DataLoader(self.ds, batch_size = self.bs, shuffle=True,\n",
        "                            num_workers = 4)    "
      ],
      "execution_count": 0,
      "outputs": []
    },
    {
      "metadata": {
        "id": "2TE1N1rHO5QF",
        "colab_type": "code",
        "colab": {}
      },
      "cell_type": "code",
      "source": [
        "mb = Minibatcher(dqn_guy)"
      ],
      "execution_count": 0,
      "outputs": []
    },
    {
      "metadata": {
        "id": "6RxQEpdnPBoE",
        "colab_type": "code",
        "colab": {}
      },
      "cell_type": "code",
      "source": [
        "mb.createDL()"
      ],
      "execution_count": 0,
      "outputs": []
    },
    {
      "metadata": {
        "id": "-3VeBwfnXsQz",
        "colab_type": "code",
        "outputId": "3c508d00-e3e0-42a9-b8f5-7f07c3569378",
        "colab": {
          "base_uri": "https://localhost:8080/",
          "height": 35
        }
      },
      "cell_type": "code",
      "source": [
        "len(mb.ds)"
      ],
      "execution_count": 25,
      "outputs": [
        {
          "output_type": "execute_result",
          "data": {
            "text/plain": [
              "2560"
            ]
          },
          "metadata": {
            "tags": []
          },
          "execution_count": 25
        }
      ]
    },
    {
      "metadata": {
        "id": "lf3mbGU0aN4X",
        "colab_type": "code",
        "outputId": "d24e99f2-6e4b-4d1f-cd5d-a4d3bb2f8042",
        "colab": {
          "base_uri": "https://localhost:8080/",
          "height": 71
        }
      },
      "cell_type": "code",
      "source": [
        "mb.ds.__getitem__(3)"
      ],
      "execution_count": 26,
      "outputs": [
        {
          "output_type": "execute_result",
          "data": {
            "text/plain": [
              "(tensor([ 0.0026,  1.4133,  0.2670,  0.1057, -0.0030, -0.0605,  0.0000,  0.0000]),\n",
              " tensor([3]),\n",
              " tensor(-1.1984))"
            ]
          },
          "metadata": {
            "tags": []
          },
          "execution_count": 26
        }
      ]
    },
    {
      "metadata": {
        "id": "bnSkwTUwgQFN",
        "colab_type": "text"
      },
      "cell_type": "markdown",
      "source": [
        "## Calculate Loss"
      ]
    },
    {
      "metadata": {
        "id": "KWgPEPXtfDvR",
        "colab_type": "code",
        "colab": {}
      },
      "cell_type": "code",
      "source": [
        "def loss_batch(states, actions, ys, model, opt=None):\n",
        "    \n",
        "    '''Calculates the loss for a minibatch, and (if opt is given) updates parameters'''\n",
        "    \n",
        "    loss_func = nn.MSELoss()\n",
        "    \n",
        "    expected = torch.gather(model(states), 1, actions).cuda()  \n",
        "    loss = loss_func(expected.squeeze(), ys.cuda())\n",
        "    \n",
        "    if opt is not None:  # Update parameters\n",
        "        opt.zero_grad(); loss.backward(); opt.step()\n",
        "        \n",
        "    return loss.item(), len(ys)"
      ],
      "execution_count": 0,
      "outputs": []
    },
    {
      "metadata": {
        "id": "4IIIGY5AhyXB",
        "colab_type": "code",
        "colab": {}
      },
      "cell_type": "code",
      "source": [
        "states, actions, ys = next(iter(mb.dl))"
      ],
      "execution_count": 0,
      "outputs": []
    },
    {
      "metadata": {
        "id": "HjRVe657-NWs",
        "colab_type": "code",
        "outputId": "4276cb37-f04d-4e5d-ed1e-ccd77ca8b9b7",
        "colab": {
          "base_uri": "https://localhost:8080/",
          "height": 35
        }
      },
      "cell_type": "code",
      "source": [
        "loss_batch(states, actions, ys, arch)"
      ],
      "execution_count": 29,
      "outputs": [
        {
          "output_type": "execute_result",
          "data": {
            "text/plain": [
              "(49.6864128112793, 256)"
            ]
          },
          "metadata": {
            "tags": []
          },
          "execution_count": 29
        }
      ]
    },
    {
      "metadata": {
        "id": "0uroj-qXbYWj",
        "colab_type": "text"
      },
      "cell_type": "markdown",
      "source": [
        "## Create a trainer"
      ]
    },
    {
      "metadata": {
        "id": "V1nfYBGC1I1r",
        "colab_type": "code",
        "colab": {}
      },
      "cell_type": "code",
      "source": [
        "def run_avg(x, beta = 0.95, bias_correct = True):\n",
        "    '''Calculates exponential running average of x.'''\n",
        "    r = 0; res = np.zeros(len(x))\n",
        "    for i in range(len(x)):\n",
        "        r = beta*r + (1-beta)*x[i]\n",
        "        res[i] = r\n",
        "    if bias_correct:\n",
        "        res = res / (1 - beta **(np.arange(len(x))+1))\n",
        "    return res"
      ],
      "execution_count": 0,
      "outputs": []
    },
    {
      "metadata": {
        "id": "388rSmqwbtUc",
        "colab_type": "code",
        "colab": {}
      },
      "cell_type": "code",
      "source": [
        "class Learner(Minibatcher):\n",
        "    \n",
        "    '''This class trains our policy.'''\n",
        "    \n",
        "    def __init__(self, agent, params = DEFAULT_PARAMS):       \n",
        "        \n",
        "        super().__init__(agent, params = params)\n",
        "        self.epoch = 0  # The number of epochs for training.\n",
        "        self.rewards = []  # List of rewards      \n",
        "        self.losses = []\n",
        "        \n",
        "    def train(self, epochs, lr): \n",
        "        '''Trains our policy for epochs rounds with learning rate lr.'''\n",
        "        for epoch in tqdm(range(epochs), position = 0):\n",
        "            if (epoch) % 10 == 0:  # Update plot every 10 rounds\n",
        "                self.plot_reward()\n",
        "                display.clear_output(wait=True)\n",
        "                display.display(plt.gcf())\n",
        "            self.train_episode(lr)\n",
        "        plt.close('all')\n",
        "    \n",
        "    def train_episode(self, lr):\n",
        "        '''Trains our policy for a single epoch.'''\n",
        "        \n",
        "        self.epoch += 1      \n",
        "        self.createDL()   # Creates minibatch of replays to train on\n",
        "        \n",
        "        model = self.agent.arch\n",
        "        opt = optim.SGD(model.parameters(), lr=lr, momentum=0.95,\n",
        "                        weight_decay=1e-3)\n",
        "        \n",
        "        # Train Neural Net\n",
        "        model.train()\n",
        "        for sb, ab, yb in self.dl:\n",
        "            self.losses.append(loss_batch(sb, ab, yb, model, opt)[0])       \n",
        "        model.eval()\n",
        "        \n",
        "        # Play once; calculate and return  reward\n",
        "        rew, _ = self.agent.playPol(explore = True)\n",
        "        self.rewards.append(rew)\n",
        "        return rew\n",
        "        \n",
        "    def plot_reward(self):\n",
        "        '''Plot rewards.'''\n",
        "        f, (ax1, ax2) = plt.subplots(1, 2, figsize=(10, 5),\n",
        "                                    sharex = False, sharey = False)\n",
        "        ax2.set_yscale('log')\n",
        "        ax2.set_yscale('linear')\n",
        "        ax1.plot(run_avg(self.rewards, beta = 0.99), '-')\n",
        "        ax2.plot(run_avg(self.losses, beta = 0.999), '-')"
      ],
      "execution_count": 0,
      "outputs": []
    },
    {
      "metadata": {
        "id": "1VIUL89v0_K1",
        "colab_type": "code",
        "colab": {}
      },
      "cell_type": "code",
      "source": [
        "arch = nn.Sequential(nn.BatchNorm1d(8, affine = False),\n",
        "                    nn.Linear(8, 50), \n",
        "                    nn.LeakyReLU(inplace = True), \n",
        "                    nn.BatchNorm1d(50), \n",
        "                    nn.Linear(50, 4))     \n",
        "\n",
        "dqn_guy = DQAgent(ENV, arch)\n",
        "learn = Learner(dqn_guy)"
      ],
      "execution_count": 0,
      "outputs": []
    },
    {
      "metadata": {
        "id": "CFXpDqneYSRe",
        "colab_type": "code",
        "outputId": "6698745a-4557-4d44-ad48-547edc5c070a",
        "colab": {
          "base_uri": "https://localhost:8080/",
          "height": 35
        }
      },
      "cell_type": "code",
      "source": [
        "np.mean([dqn_guy.playPol()[0] for i in range(100)])"
      ],
      "execution_count": 33,
      "outputs": [
        {
          "output_type": "execute_result",
          "data": {
            "text/plain": [
              "-578.1091766405951"
            ]
          },
          "metadata": {
            "tags": []
          },
          "execution_count": 33
        }
      ]
    },
    {
      "metadata": {
        "id": "lBHAFYaN0l3k",
        "colab_type": "code",
        "outputId": "4b76d572-f30a-450b-e359-cfff0ae4dec8",
        "colab": {
          "base_uri": "https://localhost:8080/",
          "height": 338
        }
      },
      "cell_type": "code",
      "source": [
        "learn.train(1, LR)"
      ],
      "execution_count": 34,
      "outputs": [
        {
          "output_type": "display_data",
          "data": {
            "image/png": "[encoded data removed]",
            "text/plain": [
              "<matplotlib.figure.Figure at 0x7f6cfb977eb8>"
            ]
          },
          "metadata": {
            "tags": []
          }
        },
        {
          "output_type": "stream",
          "text": [
            "\r100%|██████████| 1/1 [00:01<00:00,  1.22s/it]\n"
          ],
          "name": "stderr"
        }
      ]
    },
    {
      "metadata": {
        "id": "PM0wYEVWaCSx",
        "colab_type": "code",
        "outputId": "61a59bdb-8d81-4175-eee3-80f34237db97",
        "colab": {
          "base_uri": "https://localhost:8080/",
          "height": 338
        }
      },
      "cell_type": "code",
      "source": [
        "learn.train(10, LR)"
      ],
      "execution_count": 35,
      "outputs": [
        {
          "output_type": "display_data",
          "data": {
            "image/png": "[encoded data removed]",
            "text/plain": [
              "<matplotlib.figure.Figure at 0x7f6cfb98cfd0>"
            ]
          },
          "metadata": {
            "tags": []
          }
        },
        {
          "output_type": "stream",
          "text": [
            "100%|██████████| 10/10 [00:09<00:00,  1.12it/s]\n"
          ],
          "name": "stderr"
        }
      ]
    },
    {
      "metadata": {
        "id": "4NGoeKZQaAO8",
        "colab_type": "code",
        "outputId": "32ef1dcb-bd0a-4f32-b607-e38e99581124",
        "colab": {
          "base_uri": "https://localhost:8080/",
          "height": 35
        }
      },
      "cell_type": "code",
      "source": [
        "learn.agent.exp_frac"
      ],
      "execution_count": 36,
      "outputs": [
        {
          "output_type": "execute_result",
          "data": {
            "text/plain": [
              "0.96997815"
            ]
          },
          "metadata": {
            "tags": []
          },
          "execution_count": 36
        }
      ]
    },
    {
      "metadata": {
        "id": "TWC2-JuoaZiV",
        "colab_type": "code",
        "outputId": "00a253fc-a08b-4e7d-c22f-1d63b5f87e75",
        "colab": {
          "base_uri": "https://localhost:8080/",
          "height": 338
        }
      },
      "cell_type": "code",
      "source": [
        "learn.train(100, LR)"
      ],
      "execution_count": 37,
      "outputs": [
        {
          "output_type": "display_data",
          "data": {
            "image/png": "[encoded data removed]",
            "text/plain": [
              "<matplotlib.figure.Figure at 0x7f6cf9c26940>"
            ]
          },
          "metadata": {
            "tags": []
          }
        },
        {
          "output_type": "stream",
          "text": [
            "100%|██████████| 100/100 [01:48<00:00,  1.25s/it]\n"
          ],
          "name": "stderr"
        }
      ]
    },
    {
      "metadata": {
        "id": "04CFnd5b1F4w",
        "colab_type": "code",
        "colab": {
          "base_uri": "https://localhost:8080/",
          "height": 35
        },
        "outputId": "0f81ccd3-feb9-4bd0-bf40-a1fa7ea33f65"
      },
      "cell_type": "code",
      "source": [
        "learn.agent.exp_frac"
      ],
      "execution_count": 38,
      "outputs": [
        {
          "output_type": "execute_result",
          "data": {
            "text/plain": [
              "0.71179533"
            ]
          },
          "metadata": {
            "tags": []
          },
          "execution_count": 38
        }
      ]
    },
    {
      "metadata": {
        "id": "q1bP24PB1dWd",
        "colab_type": "code",
        "colab": {
          "base_uri": "https://localhost:8080/",
          "height": 35
        },
        "outputId": "dd0f7bc9-dd78-4d07-a985-a9c2992bb452"
      },
      "cell_type": "code",
      "source": [
        "np.mean([dqn_guy.playPol()[0] for i in range(100)])"
      ],
      "execution_count": 39,
      "outputs": [
        {
          "output_type": "execute_result",
          "data": {
            "text/plain": [
              "-588.50144479292"
            ]
          },
          "metadata": {
            "tags": []
          },
          "execution_count": 39
        }
      ]
    },
    {
      "metadata": {
        "id": "Z08c5WmAcoTO",
        "colab_type": "code",
        "colab": {
          "base_uri": "https://localhost:8080/",
          "height": 338
        },
        "outputId": "ffeb4dba-cc5f-4076-f11f-893aed8d0f59"
      },
      "cell_type": "code",
      "source": [
        "learn.train(100, LR)"
      ],
      "execution_count": 40,
      "outputs": [
        {
          "output_type": "display_data",
          "data": {
            "image/png": "[encoded data removed]",
            "text/plain": [
              "<matplotlib.figure.Figure at 0x7f6cf62ab0f0>"
            ]
          },
          "metadata": {
            "tags": []
          }
        },
        {
          "output_type": "stream",
          "text": [
            "100%|██████████| 100/100 [02:22<00:00,  1.44s/it]\n"
          ],
          "name": "stderr"
        }
      ]
    },
    {
      "metadata": {
        "id": "9rgeCkHt1gzr",
        "colab_type": "code",
        "colab": {
          "base_uri": "https://localhost:8080/",
          "height": 35
        },
        "outputId": "8ae1e8f2-7347-4da5-8d39-510c9533dcea"
      },
      "cell_type": "code",
      "source": [
        "learn.agent.exp_frac"
      ],
      "execution_count": 41,
      "outputs": [
        {
          "output_type": "execute_result",
          "data": {
            "text/plain": [
              "0.46995079000000006"
            ]
          },
          "metadata": {
            "tags": []
          },
          "execution_count": 41
        }
      ]
    },
    {
      "metadata": {
        "id": "cAckpriN2oG5",
        "colab_type": "code",
        "colab": {
          "base_uri": "https://localhost:8080/",
          "height": 35
        },
        "outputId": "23f03255-6369-4c98-a385-7faa802da472"
      },
      "cell_type": "code",
      "source": [
        "np.mean([dqn_guy.playPol()[0] for i in range(100)])"
      ],
      "execution_count": 42,
      "outputs": [
        {
          "output_type": "execute_result",
          "data": {
            "text/plain": [
              "-253.40831969730579"
            ]
          },
          "metadata": {
            "tags": []
          },
          "execution_count": 42
        }
      ]
    },
    {
      "metadata": {
        "id": "fAy_ga6F2tVP",
        "colab_type": "code",
        "colab": {
          "base_uri": "https://localhost:8080/",
          "height": 338
        },
        "outputId": "d4791ee4-c83b-4de0-b4db-ed64e305a4e1"
      },
      "cell_type": "code",
      "source": [
        "learn.train(100, LR)"
      ],
      "execution_count": 43,
      "outputs": [
        {
          "output_type": "display_data",
          "data": {
            "image/png": "[encoded data removed]",
            "text/plain": [
              "<matplotlib.figure.Figure at 0x7f6cf6492f60>"
            ]
          },
          "metadata": {
            "tags": []
          }
        },
        {
          "output_type": "stream",
          "text": [
            "100%|██████████| 100/100 [02:19<00:00,  1.29s/it]\n"
          ],
          "name": "stderr"
        }
      ]
    },
    {
      "metadata": {
        "id": "y8rO_VSa7mTh",
        "colab_type": "code",
        "colab": {
          "base_uri": "https://localhost:8080/",
          "height": 35
        },
        "outputId": "749bc430-0567-465b-b924-717202728ded"
      },
      "cell_type": "code",
      "source": [
        "learn.agent.exp_frac"
      ],
      "execution_count": 44,
      "outputs": [
        {
          "output_type": "execute_result",
          "data": {
            "text/plain": [
              "0.1532541300000001"
            ]
          },
          "metadata": {
            "tags": []
          },
          "execution_count": 44
        }
      ]
    },
    {
      "metadata": {
        "id": "VLOmVr9JvJXE",
        "colab_type": "code",
        "colab": {
          "base_uri": "https://localhost:8080/",
          "height": 35
        },
        "outputId": "ed3e53c5-ec02-47c1-a0fb-d38c4b8778de"
      },
      "cell_type": "code",
      "source": [
        "np.mean([dqn_guy.playPol()[0] for i in range(100)])"
      ],
      "execution_count": 45,
      "outputs": [
        {
          "output_type": "execute_result",
          "data": {
            "text/plain": [
              "-171.14961711667237"
            ]
          },
          "metadata": {
            "tags": []
          },
          "execution_count": 45
        }
      ]
    },
    {
      "metadata": {
        "id": "0vwV0Pl5vK75",
        "colab_type": "code",
        "colab": {
          "base_uri": "https://localhost:8080/",
          "height": 338
        },
        "outputId": "dc458b17-bce7-4287-fab5-c2bc54e9008b"
      },
      "cell_type": "code",
      "source": [
        "learn.train(100, LR)"
      ],
      "execution_count": 46,
      "outputs": [
        {
          "output_type": "display_data",
          "data": {
            "image/png": "[encoded data removed]",
            "text/plain": [
              "<matplotlib.figure.Figure at 0x7f6cf9f45208>"
            ]
          },
          "metadata": {
            "tags": []
          }
        },
        {
          "output_type": "stream",
          "text": [
            "100%|██████████| 100/100 [02:15<00:00,  1.19s/it]\n"
          ],
          "name": "stderr"
        }
      ]
    },
    {
      "metadata": {
        "id": "Qa1uOH5lvNJK",
        "colab_type": "code",
        "colab": {
          "base_uri": "https://localhost:8080/",
          "height": 35
        },
        "outputId": "2550b840-d9b6-4674-a8bc-ae32ba0b4708"
      },
      "cell_type": "code",
      "source": [
        "np.mean([dqn_guy.playPol()[0] for i in range(100)])"
      ],
      "execution_count": 47,
      "outputs": [
        {
          "output_type": "execute_result",
          "data": {
            "text/plain": [
              "-123.48713711836761"
            ]
          },
          "metadata": {
            "tags": []
          },
          "execution_count": 47
        }
      ]
    },
    {
      "metadata": {
        "id": "9S342-aIvt2Y",
        "colab_type": "code",
        "colab": {
          "base_uri": "https://localhost:8080/",
          "height": 338
        },
        "outputId": "1e3d6663-973d-4441-c004-9cc9a91fc0bc"
      },
      "cell_type": "code",
      "source": [
        "learn.train(200, LR)"
      ],
      "execution_count": 48,
      "outputs": [
        {
          "output_type": "display_data",
          "data": {
            "image/png": "[encoded data removed]",
            "text/plain": [
              "<matplotlib.figure.Figure at 0x7f6cf6620e80>"
            ]
          },
          "metadata": {
            "tags": []
          }
        },
        {
          "output_type": "stream",
          "text": [
            "100%|██████████| 200/200 [04:21<00:00,  1.25s/it]\n"
          ],
          "name": "stderr"
        }
      ]
    },
    {
      "metadata": {
        "id": "FbrFNHUowRX3",
        "colab_type": "code",
        "colab": {
          "base_uri": "https://localhost:8080/",
          "height": 35
        },
        "outputId": "7e1757e6-eedf-4eed-e8e5-a788d8886eb3"
      },
      "cell_type": "code",
      "source": [
        "np.mean([dqn_guy.playPol()[0] for i in range(100)])"
      ],
      "execution_count": 49,
      "outputs": [
        {
          "output_type": "execute_result",
          "data": {
            "text/plain": [
              "-196.9048304677073"
            ]
          },
          "metadata": {
            "tags": []
          },
          "execution_count": 49
        }
      ]
    },
    {
      "metadata": {
        "id": "BBaa9cQCwsND",
        "colab_type": "code",
        "colab": {
          "base_uri": "https://localhost:8080/",
          "height": 338
        },
        "outputId": "c41c2930-aefa-437f-c3ce-45aede19e2ae"
      },
      "cell_type": "code",
      "source": [
        "learn.train(300, LR)"
      ],
      "execution_count": 50,
      "outputs": [
        {
          "output_type": "display_data",
          "data": {
            "image/png": "[encoded data removed]",
            "text/plain": [
              "<matplotlib.figure.Figure at 0x7f6cf9d58748>"
            ]
          },
          "metadata": {
            "tags": []
          }
        },
        {
          "output_type": "stream",
          "text": [
            "100%|██████████| 300/300 [06:52<00:00,  1.26s/it]\n"
          ],
          "name": "stderr"
        }
      ]
    },
    {
      "metadata": {
        "id": "7EgSXU-pxNnb",
        "colab_type": "code",
        "colab": {
          "base_uri": "https://localhost:8080/",
          "height": 2054
        },
        "outputId": "3198ed05-700e-45cc-f44b-c9f22c6cfc7c"
      },
      "cell_type": "code",
      "source": [
        "learn.train(300, LR)"
      ],
      "execution_count": 51,
      "outputs": [
        {
          "output_type": "display_data",
          "data": {
            "image/png": "[encoded data removed]",
            "text/plain": [
              "<matplotlib.figure.Figure at 0x7f6cf9ba30b8>"
            ]
          },
          "metadata": {
            "tags": []
          }
        },
        {
          "output_type": "stream",
          "text": [
            "  2%|▏         | 7/300 [00:09<06:32,  1.34s/it]\n"
          ],
          "name": "stderr"
        },
        {
          "output_type": "error",
          "ename": "KeyboardInterrupt",
          "evalue": "ignored",
          "traceback": [
            "\u001b[0;31m---------------------------------------------------------------------------\u001b[0m",
            "\u001b[0;31mKeyboardInterrupt\u001b[0m                         Traceback (most recent call last)",
            "\u001b[0;32m<ipython-input-51-ae1d92fb711d>\u001b[0m in \u001b[0;36m<module>\u001b[0;34m()\u001b[0m\n\u001b[0;32m----> 1\u001b[0;31m \u001b[0mlearn\u001b[0m\u001b[0;34m.\u001b[0m\u001b[0mtrain\u001b[0m\u001b[0;34m(\u001b[0m\u001b[0;36m300\u001b[0m\u001b[0;34m,\u001b[0m \u001b[0mLR\u001b[0m\u001b[0;34m)\u001b[0m\u001b[0;34m\u001b[0m\u001b[0m\n\u001b[0m",
            "\u001b[0;32m<ipython-input-31-0c8df81e3377>\u001b[0m in \u001b[0;36mtrain\u001b[0;34m(self, epochs, lr)\u001b[0m\n\u001b[1;32m     17\u001b[0m                 \u001b[0mdisplay\u001b[0m\u001b[0;34m.\u001b[0m\u001b[0mclear_output\u001b[0m\u001b[0;34m(\u001b[0m\u001b[0mwait\u001b[0m\u001b[0;34m=\u001b[0m\u001b[0;32mTrue\u001b[0m\u001b[0;34m)\u001b[0m\u001b[0;34m\u001b[0m\u001b[0m\n\u001b[1;32m     18\u001b[0m                 \u001b[0mdisplay\u001b[0m\u001b[0;34m.\u001b[0m\u001b[0mdisplay\u001b[0m\u001b[0;34m(\u001b[0m\u001b[0mplt\u001b[0m\u001b[0;34m.\u001b[0m\u001b[0mgcf\u001b[0m\u001b[0;34m(\u001b[0m\u001b[0;34m)\u001b[0m\u001b[0;34m)\u001b[0m\u001b[0;34m\u001b[0m\u001b[0m\n\u001b[0;32m---> 19\u001b[0;31m             \u001b[0mself\u001b[0m\u001b[0;34m.\u001b[0m\u001b[0mtrain_episode\u001b[0m\u001b[0;34m(\u001b[0m\u001b[0mlr\u001b[0m\u001b[0;34m)\u001b[0m\u001b[0;34m\u001b[0m\u001b[0m\n\u001b[0m\u001b[1;32m     20\u001b[0m         \u001b[0mplt\u001b[0m\u001b[0;34m.\u001b[0m\u001b[0mclose\u001b[0m\u001b[0;34m(\u001b[0m\u001b[0;34m'all'\u001b[0m\u001b[0;34m)\u001b[0m\u001b[0;34m\u001b[0m\u001b[0m\n\u001b[1;32m     21\u001b[0m \u001b[0;34m\u001b[0m\u001b[0m\n",
            "\u001b[0;32m<ipython-input-31-0c8df81e3377>\u001b[0m in \u001b[0;36mtrain_episode\u001b[0;34m(self, lr)\u001b[0m\n\u001b[1;32m     24\u001b[0m \u001b[0;34m\u001b[0m\u001b[0m\n\u001b[1;32m     25\u001b[0m         \u001b[0mself\u001b[0m\u001b[0;34m.\u001b[0m\u001b[0mepoch\u001b[0m \u001b[0;34m+=\u001b[0m \u001b[0;36m1\u001b[0m\u001b[0;34m\u001b[0m\u001b[0m\n\u001b[0;32m---> 26\u001b[0;31m         \u001b[0mself\u001b[0m\u001b[0;34m.\u001b[0m\u001b[0mcreateDL\u001b[0m\u001b[0;34m(\u001b[0m\u001b[0;34m)\u001b[0m   \u001b[0;31m# Creates minibatch of replays to train on\u001b[0m\u001b[0;34m\u001b[0m\u001b[0m\n\u001b[0m\u001b[1;32m     27\u001b[0m \u001b[0;34m\u001b[0m\u001b[0m\n\u001b[1;32m     28\u001b[0m         \u001b[0mmodel\u001b[0m \u001b[0;34m=\u001b[0m \u001b[0mself\u001b[0m\u001b[0;34m.\u001b[0m\u001b[0magent\u001b[0m\u001b[0;34m.\u001b[0m\u001b[0march\u001b[0m\u001b[0;34m\u001b[0m\u001b[0m\n",
            "\u001b[0;32m<ipython-input-22-90e4865add53>\u001b[0m in \u001b[0;36mcreateDL\u001b[0;34m(self)\u001b[0m\n\u001b[1;32m     43\u001b[0m \u001b[0;34m\u001b[0m\u001b[0m\n\u001b[1;32m     44\u001b[0m     \u001b[0;32mdef\u001b[0m \u001b[0mcreateDL\u001b[0m\u001b[0;34m(\u001b[0m\u001b[0mself\u001b[0m\u001b[0;34m)\u001b[0m\u001b[0;34m:\u001b[0m\u001b[0;34m\u001b[0m\u001b[0m\n\u001b[0;32m---> 45\u001b[0;31m         \u001b[0mself\u001b[0m\u001b[0;34m.\u001b[0m\u001b[0mcreateDS\u001b[0m\u001b[0;34m(\u001b[0m\u001b[0;34m)\u001b[0m\u001b[0;34m\u001b[0m\u001b[0m\n\u001b[0m\u001b[1;32m     46\u001b[0m         self.dl = DataLoader(self.ds, batch_size = self.bs, shuffle=True,\n\u001b[1;32m     47\u001b[0m                             num_workers = 4)    \n",
            "\u001b[0;32m<ipython-input-22-90e4865add53>\u001b[0m in \u001b[0;36mcreateDS\u001b[0;34m(self)\u001b[0m\n\u001b[1;32m     37\u001b[0m \u001b[0;34m\u001b[0m\u001b[0m\n\u001b[1;32m     38\u001b[0m     \u001b[0;32mdef\u001b[0m \u001b[0mcreateDS\u001b[0m\u001b[0;34m(\u001b[0m\u001b[0mself\u001b[0m\u001b[0;34m)\u001b[0m\u001b[0;34m:\u001b[0m\u001b[0;34m\u001b[0m\u001b[0m\n\u001b[0;32m---> 39\u001b[0;31m         \u001b[0mself\u001b[0m\u001b[0;34m.\u001b[0m\u001b[0mfill_buffer\u001b[0m\u001b[0;34m(\u001b[0m\u001b[0;34m)\u001b[0m\u001b[0;34m\u001b[0m\u001b[0m\n\u001b[0m\u001b[1;32m     40\u001b[0m         \u001b[0mstates\u001b[0m\u001b[0;34m,\u001b[0m \u001b[0mactions\u001b[0m \u001b[0;34m=\u001b[0m \u001b[0mself\u001b[0m\u001b[0;34m.\u001b[0m\u001b[0mgetX\u001b[0m\u001b[0;34m(\u001b[0m\u001b[0;34m)\u001b[0m\u001b[0;34m\u001b[0m\u001b[0m\n\u001b[1;32m     41\u001b[0m         \u001b[0my\u001b[0m \u001b[0;34m=\u001b[0m \u001b[0mself\u001b[0m\u001b[0;34m.\u001b[0m\u001b[0mgetY\u001b[0m\u001b[0;34m(\u001b[0m\u001b[0;34m)\u001b[0m\u001b[0;34m\u001b[0m\u001b[0m\n",
            "\u001b[0;32m<ipython-input-17-7c6ea787776a>\u001b[0m in \u001b[0;36mfill_buffer\u001b[0;34m(self)\u001b[0m\n\u001b[1;32m     20\u001b[0m         \u001b[0mi\u001b[0m \u001b[0;34m=\u001b[0m \u001b[0;36m0\u001b[0m\u001b[0;34m\u001b[0m\u001b[0m\n\u001b[1;32m     21\u001b[0m         \u001b[0;32mwhile\u001b[0m \u001b[0mi\u001b[0m \u001b[0;34m<\u001b[0m \u001b[0mself\u001b[0m\u001b[0;34m.\u001b[0m\u001b[0mbuffer_size\u001b[0m\u001b[0;34m:\u001b[0m\u001b[0;34m\u001b[0m\u001b[0m\n\u001b[0;32m---> 22\u001b[0;31m             \u001b[0mself\u001b[0m\u001b[0;34m.\u001b[0m\u001b[0magent\u001b[0m\u001b[0;34m.\u001b[0m\u001b[0mplayPol\u001b[0m\u001b[0;34m(\u001b[0m\u001b[0mexplore\u001b[0m \u001b[0;34m=\u001b[0m \u001b[0;32mTrue\u001b[0m\u001b[0;34m)\u001b[0m\u001b[0;34m\u001b[0m\u001b[0m\n\u001b[0m\u001b[1;32m     23\u001b[0m             \u001b[0mn\u001b[0m \u001b[0;34m=\u001b[0m \u001b[0mlen\u001b[0m\u001b[0;34m(\u001b[0m\u001b[0mself\u001b[0m\u001b[0;34m.\u001b[0m\u001b[0magent\u001b[0m\u001b[0;34m.\u001b[0m\u001b[0mhistory\u001b[0m\u001b[0;34m)\u001b[0m\u001b[0;34m\u001b[0m\u001b[0m\n\u001b[1;32m     24\u001b[0m             \u001b[0;32mfor\u001b[0m \u001b[0mj\u001b[0m \u001b[0;32min\u001b[0m \u001b[0mrange\u001b[0m\u001b[0;34m(\u001b[0m\u001b[0mn\u001b[0m\u001b[0;34m)\u001b[0m\u001b[0;34m:\u001b[0m\u001b[0;34m\u001b[0m\u001b[0m\n",
            "\u001b[0;32m<ipython-input-15-b7df607340d9>\u001b[0m in \u001b[0;36mplayPol\u001b[0;34m(self, save_frames, explore)\u001b[0m\n\u001b[1;32m     23\u001b[0m \u001b[0;34m\u001b[0m\u001b[0m\n\u001b[1;32m     24\u001b[0m         \u001b[0mself\u001b[0m\u001b[0;34m.\u001b[0m\u001b[0mget_exp_frac\u001b[0m\u001b[0;34m(\u001b[0m\u001b[0;34m)\u001b[0m\u001b[0;34m\u001b[0m\u001b[0m\n\u001b[0;32m---> 25\u001b[0;31m         \u001b[0;32mreturn\u001b[0m \u001b[0msuper\u001b[0m\u001b[0;34m(\u001b[0m\u001b[0;34m)\u001b[0m\u001b[0;34m.\u001b[0m\u001b[0mplayPol\u001b[0m\u001b[0;34m(\u001b[0m\u001b[0msave_frames\u001b[0m\u001b[0;34m,\u001b[0m \u001b[0mexplore\u001b[0m\u001b[0;34m)\u001b[0m\u001b[0;34m\u001b[0m\u001b[0m\n\u001b[0m\u001b[1;32m     26\u001b[0m \u001b[0;34m\u001b[0m\u001b[0m\n\u001b[1;32m     27\u001b[0m     \u001b[0;32mdef\u001b[0m \u001b[0mdo_exploration\u001b[0m\u001b[0;34m(\u001b[0m\u001b[0mself\u001b[0m\u001b[0;34m)\u001b[0m\u001b[0;34m:\u001b[0m\u001b[0;34m\u001b[0m\u001b[0m\n",
            "\u001b[0;32m<ipython-input-9-ae120ecddea4>\u001b[0m in \u001b[0;36mplayPol\u001b[0;34m(self, save_frames, explore)\u001b[0m\n\u001b[1;32m     23\u001b[0m         \u001b[0;32mfor\u001b[0m \u001b[0mi\u001b[0m \u001b[0;32min\u001b[0m \u001b[0mrange\u001b[0m\u001b[0;34m(\u001b[0m\u001b[0mself\u001b[0m\u001b[0;34m.\u001b[0m\u001b[0mmax_rounds\u001b[0m\u001b[0;34m)\u001b[0m\u001b[0;34m:\u001b[0m\u001b[0;34m\u001b[0m\u001b[0m\n\u001b[1;32m     24\u001b[0m             \u001b[0;32mif\u001b[0m \u001b[0msave_frames\u001b[0m\u001b[0;34m:\u001b[0m \u001b[0mframes\u001b[0m\u001b[0;34m.\u001b[0m\u001b[0mappend\u001b[0m\u001b[0;34m(\u001b[0m\u001b[0mself\u001b[0m\u001b[0;34m.\u001b[0m\u001b[0menv\u001b[0m\u001b[0;34m.\u001b[0m\u001b[0mrender\u001b[0m\u001b[0;34m(\u001b[0m\u001b[0mmode\u001b[0m \u001b[0;34m=\u001b[0m \u001b[0;34m'rgb_array'\u001b[0m\u001b[0;34m)\u001b[0m\u001b[0;34m)\u001b[0m\u001b[0;34m\u001b[0m\u001b[0m\n\u001b[0;32m---> 25\u001b[0;31m             \u001b[0maction\u001b[0m \u001b[0;34m=\u001b[0m \u001b[0mself\u001b[0m\u001b[0;34m.\u001b[0m\u001b[0mpi\u001b[0m\u001b[0;34m(\u001b[0m\u001b[0mstate\u001b[0m\u001b[0;34m,\u001b[0m \u001b[0mexplore\u001b[0m\u001b[0;34m)\u001b[0m\u001b[0;34m\u001b[0m\u001b[0m\n\u001b[0m\u001b[1;32m     26\u001b[0m             \u001b[0mnewstate\u001b[0m\u001b[0;34m,\u001b[0m \u001b[0mr\u001b[0m\u001b[0;34m,\u001b[0m \u001b[0mdone\u001b[0m\u001b[0;34m,\u001b[0m \u001b[0m_\u001b[0m \u001b[0;34m=\u001b[0m \u001b[0mself\u001b[0m\u001b[0;34m.\u001b[0m\u001b[0menv\u001b[0m\u001b[0;34m.\u001b[0m\u001b[0mstep\u001b[0m\u001b[0;34m(\u001b[0m\u001b[0maction\u001b[0m\u001b[0;34m)\u001b[0m\u001b[0;34m\u001b[0m\u001b[0m\n\u001b[1;32m     27\u001b[0m             \u001b[0mself\u001b[0m\u001b[0;34m.\u001b[0m\u001b[0mhistory\u001b[0m\u001b[0;34m.\u001b[0m\u001b[0mappend\u001b[0m\u001b[0;34m(\u001b[0m\u001b[0;34m(\u001b[0m\u001b[0mstate\u001b[0m\u001b[0;34m,\u001b[0m \u001b[0maction\u001b[0m\u001b[0;34m,\u001b[0m \u001b[0mr\u001b[0m\u001b[0;34m,\u001b[0m \u001b[0mdone\u001b[0m\u001b[0;34m,\u001b[0m \u001b[0mnewstate\u001b[0m\u001b[0;34m)\u001b[0m\u001b[0;34m)\u001b[0m\u001b[0;34m\u001b[0m\u001b[0m\n",
            "\u001b[0;32m<ipython-input-15-b7df607340d9>\u001b[0m in \u001b[0;36mpi\u001b[0;34m(self, state, explore)\u001b[0m\n\u001b[1;32m     30\u001b[0m     \u001b[0;32mdef\u001b[0m \u001b[0mpi\u001b[0m\u001b[0;34m(\u001b[0m\u001b[0mself\u001b[0m\u001b[0;34m,\u001b[0m \u001b[0mstate\u001b[0m\u001b[0;34m,\u001b[0m \u001b[0mexplore\u001b[0m \u001b[0;34m=\u001b[0m \u001b[0;32mFalse\u001b[0m\u001b[0;34m)\u001b[0m\u001b[0;34m:\u001b[0m\u001b[0;34m\u001b[0m\u001b[0m\n\u001b[1;32m     31\u001b[0m         \u001b[0;32mif\u001b[0m \u001b[0mexplore\u001b[0m \u001b[0;32mand\u001b[0m \u001b[0mself\u001b[0m\u001b[0;34m.\u001b[0m\u001b[0mdo_exploration\u001b[0m\u001b[0;34m(\u001b[0m\u001b[0;34m)\u001b[0m\u001b[0;34m:\u001b[0m\u001b[0;34m\u001b[0m\u001b[0m\n\u001b[0;32m---> 32\u001b[0;31m             \u001b[0;32mreturn\u001b[0m \u001b[0mself\u001b[0m\u001b[0;34m.\u001b[0m\u001b[0mrandomAction\u001b[0m\u001b[0;34m(\u001b[0m\u001b[0;34m)\u001b[0m\u001b[0;34m\u001b[0m\u001b[0m\n\u001b[0m\u001b[1;32m     33\u001b[0m         \u001b[0;32melse\u001b[0m\u001b[0;34m:\u001b[0m\u001b[0;34m\u001b[0m\u001b[0m\n\u001b[1;32m     34\u001b[0m             \u001b[0;32mreturn\u001b[0m \u001b[0mself\u001b[0m\u001b[0;34m.\u001b[0m\u001b[0mgetOptimalAction\u001b[0m\u001b[0;34m(\u001b[0m\u001b[0mstate\u001b[0m\u001b[0;34m)\u001b[0m\u001b[0;34m\u001b[0m\u001b[0m\n",
            "\u001b[0;32m<ipython-input-9-ae120ecddea4>\u001b[0m in \u001b[0;36mrandomAction\u001b[0;34m(self)\u001b[0m\n\u001b[1;32m      8\u001b[0m \u001b[0;34m\u001b[0m\u001b[0m\n\u001b[1;32m      9\u001b[0m     \u001b[0;32mdef\u001b[0m \u001b[0mrandomAction\u001b[0m\u001b[0;34m(\u001b[0m\u001b[0mself\u001b[0m\u001b[0;34m)\u001b[0m\u001b[0;34m:\u001b[0m\u001b[0;34m\u001b[0m\u001b[0m\n\u001b[0;32m---> 10\u001b[0;31m         \u001b[0;32mreturn\u001b[0m \u001b[0mself\u001b[0m\u001b[0;34m.\u001b[0m\u001b[0menv\u001b[0m\u001b[0;34m.\u001b[0m\u001b[0maction_space\u001b[0m\u001b[0;34m.\u001b[0m\u001b[0msample\u001b[0m\u001b[0;34m(\u001b[0m\u001b[0;34m)\u001b[0m\u001b[0;34m\u001b[0m\u001b[0m\n\u001b[0m\u001b[1;32m     11\u001b[0m \u001b[0;34m\u001b[0m\u001b[0m\n\u001b[1;32m     12\u001b[0m     \u001b[0;32mdef\u001b[0m \u001b[0mpi\u001b[0m\u001b[0;34m(\u001b[0m\u001b[0mself\u001b[0m\u001b[0;34m,\u001b[0m \u001b[0mstate\u001b[0m\u001b[0;34m,\u001b[0m \u001b[0mexplore\u001b[0m\u001b[0;34m)\u001b[0m\u001b[0;34m:\u001b[0m\u001b[0;34m\u001b[0m\u001b[0m\n",
            "\u001b[0;32m/usr/local/lib/python3.6/dist-packages/gym/spaces/discrete.py\u001b[0m in \u001b[0;36msample\u001b[0;34m(self)\u001b[0m\n\u001b[1;32m     14\u001b[0m \u001b[0;34m\u001b[0m\u001b[0m\n\u001b[1;32m     15\u001b[0m     \u001b[0;32mdef\u001b[0m \u001b[0msample\u001b[0m\u001b[0;34m(\u001b[0m\u001b[0mself\u001b[0m\u001b[0;34m)\u001b[0m\u001b[0;34m:\u001b[0m\u001b[0;34m\u001b[0m\u001b[0m\n\u001b[0;32m---> 16\u001b[0;31m         \u001b[0;32mreturn\u001b[0m \u001b[0mgym\u001b[0m\u001b[0;34m.\u001b[0m\u001b[0mspaces\u001b[0m\u001b[0;34m.\u001b[0m\u001b[0mnp_random\u001b[0m\u001b[0;34m.\u001b[0m\u001b[0mrandint\u001b[0m\u001b[0;34m(\u001b[0m\u001b[0mself\u001b[0m\u001b[0;34m.\u001b[0m\u001b[0mn\u001b[0m\u001b[0;34m)\u001b[0m\u001b[0;34m\u001b[0m\u001b[0m\n\u001b[0m\u001b[1;32m     17\u001b[0m \u001b[0;34m\u001b[0m\u001b[0m\n\u001b[1;32m     18\u001b[0m     \u001b[0;32mdef\u001b[0m \u001b[0mcontains\u001b[0m\u001b[0;34m(\u001b[0m\u001b[0mself\u001b[0m\u001b[0;34m,\u001b[0m \u001b[0mx\u001b[0m\u001b[0;34m)\u001b[0m\u001b[0;34m:\u001b[0m\u001b[0;34m\u001b[0m\u001b[0m\n",
            "\u001b[0;31mKeyboardInterrupt\u001b[0m: "
          ]
        },
        {
          "output_type": "display_data",
          "data": {
            "image/png": "[encoded data removed]",
            "text/plain": [
              "<matplotlib.figure.Figure at 0x7f6cf9ba30b8>"
            ]
          },
          "metadata": {
            "tags": []
          }
        }
      ]
    },
    {
      "metadata": {
        "id": "a1dszihcy3Lp",
        "colab_type": "code",
        "colab": {}
      },
      "cell_type": "code",
      "source": [
        "np.mean([dqn_guy.playPol()[0] for i in range(100)])"
      ],
      "execution_count": 0,
      "outputs": []
    },
    {
      "metadata": {
        "id": "dt1xlfTFzQtw",
        "colab_type": "code",
        "colab": {}
      },
      "cell_type": "code",
      "source": [
        "learn.train(500, LR)"
      ],
      "execution_count": 0,
      "outputs": []
    },
    {
      "metadata": {
        "id": "E8oanL-D0anT",
        "colab_type": "code",
        "colab": {}
      },
      "cell_type": "code",
      "source": [
        "learn.train(500, LR/100)"
      ],
      "execution_count": 0,
      "outputs": []
    },
    {
      "metadata": {
        "id": "myTZYLLU1JjL",
        "colab_type": "code",
        "colab": {}
      },
      "cell_type": "code",
      "source": [
        "np.mean([dqn_guy.playPol()[0] for i in range(100)])"
      ],
      "execution_count": 0,
      "outputs": []
    }
  ]
}