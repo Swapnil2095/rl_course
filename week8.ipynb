{
 "cells": [
  {
   "cell_type": "markdown",
   "metadata": {},
   "source": [
    "# Lunar Lander with REINFORCE algorithm\n",
    "\n",
    "This week I'm recycling quite a lot of code. Both from previous weeks, and from Colin Skow's code for a different environment ([here](https://github.com/colinskow/move37/blob/master/pg/cartpole_pg.py))."
   ]
  },
  {
   "cell_type": "code",
   "execution_count": 1,
   "metadata": {
    "colab": {
     "base_uri": "https://localhost:8080/",
     "height": 53
    },
    "colab_type": "code",
    "id": "dVsDqRDO-IGa",
    "outputId": "08a8903e-b32d-4a6d-902f-ccb2175ce082"
   },
   "outputs": [],
   "source": [
    "%matplotlib inline\n",
    "%load_ext autoreload\n",
    "%autoreload 2"
   ]
  },
  {
   "cell_type": "code",
   "execution_count": 2,
   "metadata": {
    "colab": {},
    "colab_type": "code",
    "id": "bdK0KFBg-J5x"
   },
   "outputs": [],
   "source": [
    "import numpy as np\n",
    "import gym\n",
    "import ptan\n",
    "\n",
    "from tqdm import tqdm\n",
    "import pickle\n",
    "\n",
    "from collections import deque\n",
    "\n",
    "import matplotlib.pyplot as plt\n",
    "from IPython import display\n",
    "plt.style.use('seaborn')\n",
    "\n",
    "import torch\n",
    "import torch.nn as nn\n",
    "import torch.optim as optim\n",
    "import torch.nn.functional as F\n",
    "\n",
    "np.random.seed(1)\n",
    "device = torch.device('cuda')"
   ]
  },
  {
   "cell_type": "code",
   "execution_count": 3,
   "metadata": {
    "colab": {
     "base_uri": "https://localhost:8080/",
     "height": 73
    },
    "colab_type": "code",
    "id": "QweINzLu-MUK",
    "outputId": "a5626e3d-5306-4a45-f676-fece9ce95ed2"
   },
   "outputs": [],
   "source": [
    "ENV = gym.make('LunarLander-v2')\n",
    "NS = ENV.observation_space.shape[0]  \n",
    "NA = 1\n",
    "LR = 1e-4\n",
    "BATCH_SIZE = 4*1024\n",
    "ENTROPY_BETA = 1e-3\n",
    "EPISODE_NUM = 1e5\n",
    "TARGET_REWARD = 190\n",
    "GAMMA = 0.99"
   ]
  },
  {
   "cell_type": "code",
   "execution_count": 4,
   "metadata": {
    "colab": {
     "base_uri": "https://localhost:8080/",
     "height": 53
    },
    "colab_type": "code",
    "id": "jGgkuEw5-RtT",
    "outputId": "015ad7b8-4d7f-4726-b3ad-d8b5a44cab7f"
   },
   "outputs": [
    {
     "data": {
      "text/plain": [
       "array([ 0.00177326,  1.4144524 ,  0.17960814,  0.15698475, -0.00204809,\n",
       "       -0.04068395,  0.        ,  0.        ], dtype=float32)"
      ]
     },
     "execution_count": 4,
     "metadata": {},
     "output_type": "execute_result"
    }
   ],
   "source": [
    "ENV.reset()"
   ]
  },
  {
   "cell_type": "markdown",
   "metadata": {
    "colab_type": "text",
    "id": "Q4_c2ZLl_6cu"
   },
   "source": [
    "## Create Random Agent"
   ]
  },
  {
   "cell_type": "code",
   "execution_count": 5,
   "metadata": {
    "colab": {},
    "colab_type": "code",
    "id": "S7qo8eO_-T2-"
   },
   "outputs": [],
   "source": [
    "class RandomAgent():\n",
    "    \n",
    "    def __init__(self, env, clip_reward = False):\n",
    "        self.env = env\n",
    "        self.max_rounds = int(1e4)\n",
    "        self.clip_reward = clip_reward\n",
    "        self.n = 0  # Number of exploration rounds\n",
    "        \n",
    "    def randomAction(self):\n",
    "        return self.env.action_space.sample()\n",
    "    \n",
    "    def pi(self, state):\n",
    "        return self.randomAction()\n",
    "    \n",
    "    def playPol(self, save_frames = False, save_ext = 'tmp/experiment0/'):\n",
    "        \n",
    "        '''Plays a game from start to finish. '''\n",
    "        \n",
    "        reward = 0\n",
    "        \n",
    "        if save_frames:\n",
    "            env = wrappers.Monitor(self.env, save_ext, force=True)\n",
    "        else:\n",
    "            env = self.env\n",
    "            \n",
    "        state= env.reset()\n",
    "        \n",
    "        self.history = deque()\n",
    "        for i in range(self.max_rounds):\n",
    "            if save_frames: env.render()\n",
    "            action = self.pi(state)\n",
    "            newstate, r, done, _ = self.env.step(action)\n",
    "            self.history.append((state, action, r, done, newstate))\n",
    "            if self.clip_reward:\n",
    "                r = max(min(r, 1), -1)\n",
    "            reward += r\n",
    "            if done: break\n",
    "                \n",
    "        if save_frames: \n",
    "            env.close(); self.env.close()\n",
    "        return reward"
   ]
  },
  {
   "cell_type": "code",
   "execution_count": 6,
   "metadata": {
    "colab": {},
    "colab_type": "code",
    "id": "_DM80tqh-Ven"
   },
   "outputs": [],
   "source": [
    "random_guy = RandomAgent(ENV)"
   ]
  },
  {
   "cell_type": "code",
   "execution_count": 7,
   "metadata": {
    "colab": {
     "base_uri": "https://localhost:8080/",
     "height": 35
    },
    "colab_type": "code",
    "id": "dCPxcJrT-XBA",
    "outputId": "72b8f48e-fd41-449e-ccde-bcb7612b672c"
   },
   "outputs": [
    {
     "data": {
      "text/plain": [
       "-106.06439916393064"
      ]
     },
     "execution_count": 7,
     "metadata": {},
     "output_type": "execute_result"
    }
   ],
   "source": [
    "random_guy.playPol()"
   ]
  },
  {
   "cell_type": "markdown",
   "metadata": {},
   "source": [
    "## Buffer for Storing Mean Rewards"
   ]
  },
  {
   "cell_type": "code",
   "execution_count": 8,
   "metadata": {},
   "outputs": [],
   "source": [
    "class MeanBuffer:\n",
    "    def __init__(self, capacity):\n",
    "        self.capacity = capacity\n",
    "        self.deque = deque(maxlen=capacity)\n",
    "        self.sum = 0.0\n",
    "\n",
    "    def add(self, val):\n",
    "        if len(self.deque) == self.capacity:\n",
    "            self.sum -= self.deque[0]\n",
    "        self.deque.append(val)\n",
    "        self.sum += val\n",
    "\n",
    "    def mean(self):\n",
    "        if not self.deque:\n",
    "            return 0.0\n",
    "        return self.sum / len(self.deque)"
   ]
  },
  {
   "cell_type": "markdown",
   "metadata": {
    "colab_type": "text",
    "id": "M1iafSrN_RtX"
   },
   "source": [
    "## Create Neural Architecture"
   ]
  },
  {
   "cell_type": "code",
   "execution_count": 9,
   "metadata": {
    "colab": {},
    "colab_type": "code",
    "id": "CeDMXTWh_-u-"
   },
   "outputs": [],
   "source": [
    "arch = nn.Sequential(nn.Linear(8, 50), \n",
    "                    nn.ReLU(), \n",
    "                    nn.BatchNorm1d(50), \n",
    "                    nn.Linear(50, 4) )           "
   ]
  },
  {
   "cell_type": "code",
   "execution_count": 10,
   "metadata": {
    "colab": {
     "base_uri": "https://localhost:8080/",
     "height": 35
    },
    "colab_type": "code",
    "id": "2b_U9tkNC0kT",
    "outputId": "40553f8c-4de0-4eb5-f65f-8213b30ec4f3"
   },
   "outputs": [
    {
     "name": "stdout",
     "output_type": "stream",
     "text": [
      "[-0.12293397 -0.03991827  0.21742089  0.09919161]\n"
     ]
    }
   ],
   "source": [
    "state = torch.tensor(ENV.reset()[None])\n",
    "arch.eval()\n",
    "with torch.no_grad():\n",
    "    print(arch(state).numpy()[0])"
   ]
  },
  {
   "cell_type": "markdown",
   "metadata": {
    "colab_type": "text",
    "id": "wjioOSsQC3yi"
   },
   "source": [
    "## Define Agent"
   ]
  },
  {
   "cell_type": "code",
   "execution_count": 11,
   "metadata": {
    "colab": {},
    "colab_type": "code",
    "id": "4Sd_JPRLFCqs"
   },
   "outputs": [],
   "source": [
    "def softmax(x):\n",
    "    ex = np.exp(x)\n",
    "    return ex / np.sum(ex)"
   ]
  },
  {
   "cell_type": "code",
   "execution_count": 12,
   "metadata": {
    "colab": {},
    "colab_type": "code",
    "id": "4AJmDXQwC69y"
   },
   "outputs": [],
   "source": [
    "class Policy_Agent(RandomAgent):\n",
    "    \n",
    "    def __init__(self, env, arch):\n",
    "        super().__init__(env)\n",
    "        self.arch = arch\n",
    "        \n",
    "    def pi(self, state):\n",
    "        return np.random.choice(4, 1, True, p = self.getProbs(state))[0]\n",
    "        \n",
    "    def getProbs(self, state):\n",
    "        return softmax(self.getNetOutput(state))\n",
    "    \n",
    "    def getNetOutput(self, state):\n",
    "        self.arch.eval()\n",
    "        with torch.no_grad():\n",
    "            inp = torch.tensor(state[None])\n",
    "            return self.arch(inp).numpy()[0]"
   ]
  },
  {
   "cell_type": "code",
   "execution_count": 13,
   "metadata": {
    "colab": {},
    "colab_type": "code",
    "id": "J510SkQmELX-"
   },
   "outputs": [],
   "source": [
    "policy_guy = Policy_Agent(ENV, arch)"
   ]
  },
  {
   "cell_type": "code",
   "execution_count": 14,
   "metadata": {
    "colab": {
     "base_uri": "https://localhost:8080/",
     "height": 35
    },
    "colab_type": "code",
    "id": "hhqQdFAwEQCu",
    "outputId": "fb7b5833-25d7-4aa3-ad1e-a1c772b606dd"
   },
   "outputs": [
    {
     "data": {
      "text/plain": [
       "-295.17288927132694"
      ]
     },
     "execution_count": 14,
     "metadata": {},
     "output_type": "execute_result"
    }
   ],
   "source": [
    "policy_guy.playPol()"
   ]
  },
  {
   "cell_type": "markdown",
   "metadata": {
    "colab_type": "text",
    "id": "0lKxObk1EVR-"
   },
   "source": [
    "## Try out ptan\n",
    "\n",
    "Never used this library before. Let's try it."
   ]
  },
  {
   "cell_type": "code",
   "execution_count": 15,
   "metadata": {
    "colab": {},
    "colab_type": "code",
    "id": "x2JZUp-jFwQN"
   },
   "outputs": [],
   "source": [
    "agent = ptan.agent.PolicyAgent(arch.cuda(), preprocessor=ptan.agent.float32_preprocessor, \n",
    "                               apply_softmax=True, device='cuda')"
   ]
  },
  {
   "cell_type": "code",
   "execution_count": 16,
   "metadata": {
    "colab": {},
    "colab_type": "code",
    "id": "vdUeFkEVGFA-"
   },
   "outputs": [],
   "source": [
    "exp_source = ptan.experience.ExperienceSourceFirstLast(ENV, agent, gamma=GAMMA, steps_count=10)"
   ]
  },
  {
   "cell_type": "code",
   "execution_count": 17,
   "metadata": {
    "colab": {
     "base_uri": "https://localhost:8080/",
     "height": 91
    },
    "colab_type": "code",
    "id": "2BAJB7DRGUmF",
    "outputId": "fbb4cdc8-6e0e-4419-dffc-a3c2c1b33808"
   },
   "outputs": [
    {
     "data": {
      "text/plain": [
       "ExperienceFirstLast(state=array([-0.00663586,  1.4062669 , -0.6721725 , -0.20683655,  0.00769627,\n",
       "        0.15225719,  0.        ,  0.        ], dtype=float32), action=3, reward=-5.394842106346405, last_state=array([-0.07160082,  1.3394413 , -0.6724851 , -0.33141997,  0.07319133,\n",
       "        0.11004923,  0.        ,  0.        ], dtype=float32))"
      ]
     },
     "execution_count": 17,
     "metadata": {},
     "output_type": "execute_result"
    }
   ],
   "source": [
    "ex = next(iter(exp_source))\n",
    "ex"
   ]
  },
  {
   "cell_type": "markdown",
   "metadata": {
    "colab_type": "text",
    "id": "q1k3iZpsGmHU"
   },
   "source": [
    "Okay, so it seems this library just feeds us the state, action, reward tuples we need."
   ]
  },
  {
   "cell_type": "markdown",
   "metadata": {
    "colab": {},
    "colab_type": "code",
    "id": "0vuMszyBJqET"
   },
   "source": [
    "## Optimize"
   ]
  },
  {
   "cell_type": "code",
   "execution_count": 18,
   "metadata": {},
   "outputs": [],
   "source": [
    "def run_avg(x, beta = 0.95, bias_correct = True):\n",
    "    '''Calculates exponential running average of x.'''\n",
    "    r = 0; res = np.zeros(len(x))\n",
    "    for i in range(len(x)):\n",
    "        r = beta*r + (1-beta)*x[i]\n",
    "        res[i] = r\n",
    "    if bias_correct:\n",
    "        res = res / (1 - beta **(np.arange(len(x))+1))\n",
    "    return res"
   ]
  },
  {
   "cell_type": "code",
   "execution_count": null,
   "metadata": {},
   "outputs": [
    {
     "data": {
      "image/png": "[encoded data removed]",
      "text/plain": [
       "<Figure size 360x360 with 1 Axes>"
      ]
     },
     "metadata": {},
     "output_type": "display_data"
    }
   ],
   "source": [
    "optimizer = optim.Adam(arch.parameters(), lr=LR)\n",
    "\n",
    "total_rewards = []\n",
    "step_rewards = []\n",
    "baseline_buf = MeanBuffer(50000)\n",
    "step_idx = 0\n",
    "done_episodes = 0\n",
    "batch_states, batch_actions, batch_scales = [], [], []\n",
    "\n",
    "for step_idx, exp in enumerate(exp_source):\n",
    "    \n",
    "    baseline_buf.add(exp.reward)\n",
    "    baseline = baseline_buf.mean()\n",
    "    \n",
    "    batch_states.append(exp.state)\n",
    "    batch_actions.append(int(exp.action))\n",
    "    batch_scales.append(exp.reward - baseline)\n",
    "\n",
    "    # handle when an episode is completed\n",
    "    episode_rewards = exp_source.pop_total_rewards()\n",
    "    if episode_rewards:\n",
    "        done_episodes += 1\n",
    "        reward = episode_rewards[0]\n",
    "        total_rewards.append(reward)\n",
    "        mean_rewards = float(np.mean(total_rewards[-100:]))\n",
    "        if done_episodes % 100 == 0:\n",
    "            f, ax = plt.subplots(figsize=(5, 5))\n",
    "            ax.plot(run_avg(total_rewards, 0.99), '-')\n",
    "            display.clear_output(wait=True)\n",
    "            display.display(plt.gcf())\n",
    "        \n",
    "        if done_episodes >= EPISODE_NUM:\n",
    "            break\n",
    "        if mean_rewards > TARGET_REWARD:\n",
    "            print(\"Solved in %d steps and %d episodes!\" % (step_idx, done_episodes))\n",
    "            break\n",
    "\n",
    "    if len(batch_states) < BATCH_SIZE:\n",
    "        continue\n",
    "        \n",
    "    # copy training data to the GPU\n",
    "    states_v = torch.FloatTensor(batch_states).to(device)[range(BATCH_SIZE), :]\n",
    "    batch_actions_t = torch.LongTensor(batch_actions).to(device)[range(BATCH_SIZE)]\n",
    "    batch_scale_v = torch.FloatTensor(batch_scales).to(device)[range(BATCH_SIZE)]\n",
    "\n",
    "    # apply gradient descent\n",
    "    optimizer.zero_grad()\n",
    "    logits_v = arch(states_v)\n",
    "    # apply the softmax and take the logarithm in one step, more precise\n",
    "    log_prob_v = F.log_softmax(logits_v, dim=1)\n",
    "    # scale the log probs according to (reward - baseline)\n",
    "    log_prob_actions_v = log_prob_v[:, batch_actions_t]\n",
    "    # take the mean cross-entropy across all batches\n",
    "    loss_policy_v = -log_prob_actions_v.mean()\n",
    "\n",
    "    # subtract the entropy bonus from the loss function\n",
    "    prob_v = F.softmax(logits_v, dim=1)\n",
    "    entropy_v = -(prob_v * log_prob_v).sum(dim=1).mean()\n",
    "    entropy_loss_v = -ENTROPY_BETA * entropy_v\n",
    "    loss_v = loss_policy_v + entropy_loss_v\n",
    "\n",
    "    loss_v.backward()\n",
    "    optimizer.step()\n",
    "\n",
    "    batch_states.clear()\n",
    "    batch_actions.clear()\n",
    "    batch_scales.clear()"
   ]
  },
  {
   "cell_type": "markdown",
   "metadata": {},
   "source": [
    "## Save/Load Parameters, Play Game"
   ]
  },
  {
   "cell_type": "code",
   "execution_count": null,
   "metadata": {},
   "outputs": [],
   "source": [
    "pickle.dump(arch, open('tmp/lunar_lander_arch.pickle', 'wb'))"
   ]
  },
  {
   "cell_type": "code",
   "execution_count": null,
   "metadata": {},
   "outputs": [],
   "source": [
    "arch = pickle.load(open('tmp/lunar_lander_arch.pickle', 'rb'))"
   ]
  },
  {
   "cell_type": "code",
   "execution_count": null,
   "metadata": {},
   "outputs": [],
   "source": [
    "policy_guy = Policy_Agent(ENV, arch.to(torch.device('cpu')))"
   ]
  },
  {
   "cell_type": "code",
   "execution_count": null,
   "metadata": {},
   "outputs": [],
   "source": [
    "policy_guy.playPol()"
   ]
  }
 ],
 "metadata": {
  "accelerator": "GPU",
  "colab": {
   "name": "week8.ipynb",
   "provenance": [],
   "version": "0.3.2"
  },
  "kernelspec": {
   "display_name": "pytorch_env",
   "language": "python",
   "name": "pytorch_env"
  },
  "language_info": {
   "codemirror_mode": {
    "name": "ipython",
    "version": 3
   },
   "file_extension": ".py",
   "mimetype": "text/x-python",
   "name": "python",
   "nbconvert_exporter": "python",
   "pygments_lexer": "ipython3",
   "version": "3.7.0"
  }
 },
 "nbformat": 4,
 "nbformat_minor": 2
}
