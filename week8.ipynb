{
  "nbformat": 4,
  "nbformat_minor": 0,
  "metadata": {
    "colab": {
      "name": "week8.ipynb",
      "version": "0.3.2",
      "provenance": []
    },
    "kernelspec": {
      "name": "python3",
      "display_name": "Python 3"
    },
    "accelerator": "GPU"
  },
  "cells": [
    {
      "metadata": {
        "id": "92CE1m1j-AHy",
        "colab_type": "code",
        "outputId": "b0ce3202-ece2-4bc2-f5da-b8a6560bf3bd",
        "colab": {
          "base_uri": "https://localhost:8080/",
          "height": 55
        }
      },
      "cell_type": "code",
      "source": [
        "# Install Pytorch\n",
        "from os.path import exists\n",
        "from wheel.pep425tags import get_abbr_impl, get_impl_ver, get_abi_tag\n",
        "platform = '{}{}-{}'.format(get_abbr_impl(), get_impl_ver(), get_abi_tag())\n",
        "cuda_output = !ldconfig -p|grep cudart.so|sed -e 's/.*\\.\\([0-9]*\\)\\.\\([0-9]*\\)$/cu\\1\\2/'\n",
        "accelerator = cuda_output[0] if exists('/dev/nvidia0') else 'cpu'\n",
        "\n",
        "!pip install -q http://download.pytorch.org/whl/{accelerator}/torch-0.4.1-{platform}-linux_x86_64.whl torchvision"
      ],
      "execution_count": 0,
      "outputs": [
        {
          "output_type": "stream",
          "text": [
            "tcmalloc: large alloc 1073750016 bytes == 0x579ce000 @  0x7f9626d4a2a4 0x591a07 0x5b5d56 0x502e9a 0x506859 0x502209 0x502f3d 0x506859 0x504c28 0x502540 0x502f3d 0x506859 0x504c28 0x502540 0x502f3d 0x506859 0x504c28 0x502540 0x502f3d 0x507641 0x502209 0x502f3d 0x506859 0x504c28 0x502540 0x502f3d 0x507641 0x504c28 0x502540 0x502f3d 0x507641\n"
          ],
          "name": "stdout"
        }
      ]
    },
    {
      "metadata": {
        "id": "GRz8UkHH-E9U",
        "colab_type": "code",
        "outputId": "4d8b95f6-e4b7-40b2-d4ee-57cd22cd524d",
        "colab": {
          "base_uri": "https://localhost:8080/",
          "height": 752
        }
      },
      "cell_type": "code",
      "source": [
        "# Needed to get the gym environment working\n",
        "!apt-get install swig3.0\n",
        "!ln -s /usr/bin/swig3.0 /usr/bin/swig\n",
        "!pip3 install box2d box2d-kengz"
      ],
      "execution_count": 0,
      "outputs": [
        {
          "output_type": "stream",
          "text": [
            "[autoreload of PIL.Image failed: Traceback (most recent call last):\n",
            "  File \"/usr/local/lib/python3.6/dist-packages/IPython/extensions/autoreload.py\", line 247, in check\n",
            "    superreload(m, reload, self.old_objects)\n",
            "ImportError: cannot import name 'py3'\n",
            "]\n",
            "[autoreload of PIL._binary failed: Traceback (most recent call last):\n",
            "  File \"/usr/local/lib/python3.6/dist-packages/IPython/extensions/autoreload.py\", line 247, in check\n",
            "    superreload(m, reload, self.old_objects)\n",
            "ImportError: cannot import name 'py3'\n",
            "]\n"
          ],
          "name": "stderr"
        },
        {
          "output_type": "stream",
          "text": [
            "Reading package lists... Done\n",
            "Building dependency tree       \n",
            "Reading state information... Done\n",
            "Suggested packages:\n",
            "  swig3.0-examples swig3.0-doc\n",
            "The following NEW packages will be installed:\n",
            "  swig3.0\n",
            "0 upgraded, 1 newly installed, 0 to remove and 5 not upgraded.\n",
            "Need to get 1,094 kB of archives.\n",
            "After this operation, 5,499 kB of additional disk space will be used.\n",
            "Get:1 http://archive.ubuntu.com/ubuntu bionic/universe amd64 swig3.0 amd64 3.0.12-1 [1,094 kB]\n",
            "Fetched 1,094 kB in 1s (1,135 kB/s)\n",
            "Selecting previously unselected package swig3.0.\n",
            "(Reading database ... 22298 files and directories currently installed.)\n",
            "Preparing to unpack .../swig3.0_3.0.12-1_amd64.deb ...\n",
            "Unpacking swig3.0 (3.0.12-1) ...\n",
            "Setting up swig3.0 (3.0.12-1) ...\n",
            "Collecting box2d\n",
            "\u001b[?25l  Downloading https://files.pythonhosted.org/packages/cc/7b/ddb96fea1fa5b24f8929714ef483f64c33e9649e7aae066e5f5023ea426a/Box2D-2.3.2.tar.gz (427kB)\n",
            "\u001b[K    100% |████████████████████████████████| 430kB 6.4MB/s \n",
            "\u001b[?25hCollecting box2d-kengz\n",
            "\u001b[?25l  Downloading https://files.pythonhosted.org/packages/81/20/51d6c0c87f7642efb709c518fb0ca8e5eab068259588552c41da5926ae27/Box2D-kengz-2.3.3.tar.gz (425kB)\n",
            "\u001b[K    100% |████████████████████████████████| 430kB 7.7MB/s \n",
            "\u001b[?25hBuilding wheels for collected packages: box2d, box2d-kengz\n",
            "  Running setup.py bdist_wheel for box2d ... \u001b[?25l-\b \b\\\b \b|\b \b/\b \b-\b \b\\\b \b|\b \b/\b \b-\b \b\\\b \b|\b \b/\b \b-\b \b\\\b \b|\b \b/\b \b-\b \b\\\b \b|\b \b/\b \b-\b \b\\\b \b|\b \b/\b \b-\b \b\\\b \b|\b \b/\b \b-\b \b\\\b \b|\b \b/\b \b-\b \b\\\b \b|\b \b/\b \b-\b \b\\\b \b|\b \b/\b \b-\b \b\\\b \b|\b \b/\b \b-\b \b\\\b \b|\b \b/\b \b-\b \b\\\b \b|\b \b/\b \b-\b \b\\\b \b|\b \b/\b \b-\b \bdone\n",
            "\u001b[?25h  Stored in directory: /root/.cache/pip/wheels/35/09/fd/054e73da7184a08071ed889bf45772719c7bb6d2dd13f166a1\n",
            "  Running setup.py bdist_wheel for box2d-kengz ... \u001b[?25l-\b \b\\\b \b|\b \b/\b \b-\b \b\\\b \b|\b \b/\b \b-\b \b\\\b \b|\b \b/\b \b-\b \b\\\b \b|\b \b/\b \b-\b \b\\\b \b|\b \b/\b \b-\b \b\\\b \b|\b \b/\b \b-\b \b\\\b \b|\b \b/\b \b-\b \b\\\b \b|\b \b/\b \b-\b \b\\\b \b|\b \b/\b \b-\b \b\\\b \b|\b \b/\b \b-\b \b\\\b \b|\b \b/\b \b-\b \b\\\b \b|\b \b/\b \b-\b \b\\\b \b|\b \b/\b \b-\b \b\\\b \b|\b \b/\b \b-\b \bdone\n",
            "\u001b[?25h  Stored in directory: /root/.cache/pip/wheels/75/ae/e5/8bc678d262caad94659c199c540550e59d03dd3bd3684d4f1a\n",
            "Successfully built box2d box2d-kengz\n",
            "Installing collected packages: box2d, box2d-kengz\n",
            "Successfully installed box2d-2.3.2 box2d-kengz-2.3.3\n"
          ],
          "name": "stdout"
        }
      ]
    },
    {
      "metadata": {
        "id": "y2TnH-1X-Gv0",
        "colab_type": "code",
        "outputId": "276caed1-2771-4441-f5f9-aead6a081508",
        "colab": {
          "base_uri": "https://localhost:8080/",
          "height": 485
        }
      },
      "cell_type": "code",
      "source": [
        "!pip install gym\n",
        "!pip install ptan"
      ],
      "execution_count": 0,
      "outputs": [
        {
          "output_type": "stream",
          "text": [
            "Collecting gym\n",
            "\u001b[?25l  Downloading https://files.pythonhosted.org/packages/d4/22/4ff09745ade385ffe707fb5f053548f0f6a6e7d5e98a2b9d6c07f5b931a7/gym-0.10.9.tar.gz (1.5MB)\n",
            "\u001b[K    100% |████████████████████████████████| 1.5MB 7.8MB/s \n",
            "\u001b[?25hRequirement already satisfied: scipy in /usr/local/lib/python3.6/dist-packages (from gym) (1.1.0)\n",
            "Requirement already satisfied: numpy>=1.10.4 in /usr/local/lib/python3.6/dist-packages (from gym) (1.14.6)\n",
            "Requirement already satisfied: requests>=2.0 in /usr/local/lib/python3.6/dist-packages (from gym) (2.18.4)\n",
            "Requirement already satisfied: six in /usr/local/lib/python3.6/dist-packages (from gym) (1.11.0)\n",
            "Collecting pyglet>=1.2.0 (from gym)\n",
            "\u001b[?25l  Downloading https://files.pythonhosted.org/packages/1c/fc/dad5eaaab68f0c21e2f906a94ddb98175662cc5a654eee404d59554ce0fa/pyglet-1.3.2-py2.py3-none-any.whl (1.0MB)\n",
            "\u001b[K    100% |████████████████████████████████| 1.0MB 9.5MB/s \n",
            "\u001b[?25hRequirement already satisfied: chardet<3.1.0,>=3.0.2 in /usr/local/lib/python3.6/dist-packages (from requests>=2.0->gym) (3.0.4)\n",
            "Requirement already satisfied: idna<2.7,>=2.5 in /usr/local/lib/python3.6/dist-packages (from requests>=2.0->gym) (2.6)\n",
            "Requirement already satisfied: urllib3<1.23,>=1.21.1 in /usr/local/lib/python3.6/dist-packages (from requests>=2.0->gym) (1.22)\n",
            "Requirement already satisfied: certifi>=2017.4.17 in /usr/local/lib/python3.6/dist-packages (from requests>=2.0->gym) (2018.10.15)\n",
            "Requirement already satisfied: future in /usr/local/lib/python3.6/dist-packages (from pyglet>=1.2.0->gym) (0.16.0)\n",
            "Building wheels for collected packages: gym\n",
            "  Running setup.py bdist_wheel for gym ... \u001b[?25l-\b \b\\\b \b|\b \b/\b \bdone\n",
            "\u001b[?25h  Stored in directory: /root/.cache/pip/wheels/6c/3a/0e/b86dee98876bb56cdb482cc1f72201035e46d1baf69d10d028\n",
            "Successfully built gym\n",
            "Installing collected packages: pyglet, gym\n",
            "Successfully installed gym-0.10.9 pyglet-1.3.2\n",
            "Collecting ptan\n",
            "  Downloading https://files.pythonhosted.org/packages/14/52/2aee2e968acab9cd268278baaf2934870b6a87032fef1f6d1bc390d9db40/ptan-0.3-py3-none-any.whl\n",
            "Installing collected packages: ptan\n",
            "Successfully installed ptan-0.3\n"
          ],
          "name": "stdout"
        }
      ]
    },
    {
      "metadata": {
        "id": "dVsDqRDO-IGa",
        "colab_type": "code",
        "outputId": "08a8903e-b32d-4a6d-902f-ccb2175ce082",
        "colab": {
          "base_uri": "https://localhost:8080/",
          "height": 53
        }
      },
      "cell_type": "code",
      "source": [
        "%matplotlib inline\n",
        "%load_ext autoreload\n",
        "%autoreload 2"
      ],
      "execution_count": 0,
      "outputs": [
        {
          "output_type": "stream",
          "text": [
            "The autoreload extension is already loaded. To reload it, use:\n",
            "  %reload_ext autoreload\n"
          ],
          "name": "stdout"
        }
      ]
    },
    {
      "metadata": {
        "id": "bdK0KFBg-J5x",
        "colab_type": "code",
        "colab": {}
      },
      "cell_type": "code",
      "source": [
        "import numpy as np\n",
        "import gym\n",
        "import ptan\n",
        "\n",
        "from tqdm import tqdm\n",
        "\n",
        "import matplotlib.pyplot as plt\n",
        "from IPython import display\n",
        "plt.style.use('seaborn')\n",
        "\n",
        "from collections import deque\n",
        "\n",
        "import torch\n",
        "import torch.nn as nn\n",
        "from torch.utils.data import Dataset, DataLoader\n",
        "import torch.optim as optim\n",
        "\n",
        "np.random.seed(1)"
      ],
      "execution_count": 0,
      "outputs": []
    },
    {
      "metadata": {
        "id": "QweINzLu-MUK",
        "colab_type": "code",
        "outputId": "a5626e3d-5306-4a45-f676-fece9ce95ed2",
        "colab": {
          "base_uri": "https://localhost:8080/",
          "height": 73
        }
      },
      "cell_type": "code",
      "source": [
        "ENV = gym.make('LunarLander-v2')\n",
        "NS = ENV.observation_space.shape[0]  \n",
        "NA = 1\n",
        "DEFAULT_PARAMS = {'bn':10, 'bs':256, 'gamma':0.5, 'ns':NS, 'na':NA}\n",
        "LR = 1e-2"
      ],
      "execution_count": 0,
      "outputs": [
        {
          "output_type": "stream",
          "text": [
            "/usr/local/lib/python3.6/dist-packages/gym/envs/registration.py:14: PkgResourcesDeprecationWarning: Parameters to load are deprecated.  Call .resolve and .require separately.\n",
            "  result = entry_point.load(False)\n"
          ],
          "name": "stderr"
        }
      ]
    },
    {
      "metadata": {
        "id": "jGgkuEw5-RtT",
        "colab_type": "code",
        "outputId": "015ad7b8-4d7f-4726-b3ad-d8b5a44cab7f",
        "colab": {
          "base_uri": "https://localhost:8080/",
          "height": 53
        }
      },
      "cell_type": "code",
      "source": [
        "ENV.reset()"
      ],
      "execution_count": 0,
      "outputs": [
        {
          "output_type": "execute_result",
          "data": {
            "text/plain": [
              "array([ 0.00367823,  1.4185607 ,  0.3725416 ,  0.33957517, -0.00425527,\n",
              "       -0.08438619,  0.        ,  0.        ], dtype=float32)"
            ]
          },
          "metadata": {
            "tags": []
          },
          "execution_count": 10
        }
      ]
    },
    {
      "metadata": {
        "id": "Q4_c2ZLl_6cu",
        "colab_type": "text"
      },
      "cell_type": "markdown",
      "source": [
        "## Create Random Agent"
      ]
    },
    {
      "metadata": {
        "id": "S7qo8eO_-T2-",
        "colab_type": "code",
        "colab": {}
      },
      "cell_type": "code",
      "source": [
        "class RandomAgent():\n",
        "    \n",
        "    def __init__(self, env, clip_reward = False):\n",
        "        self.env = env\n",
        "        self.max_rounds = int(1e4)\n",
        "        self.clip_reward = clip_reward\n",
        "        self.n = 0  # Number of exploration rounds\n",
        "        \n",
        "    def randomAction(self):\n",
        "        return self.env.action_space.sample()\n",
        "    \n",
        "    def pi(self, state):\n",
        "        return self.randomAction()\n",
        "    \n",
        "    def playPol(self, save_frames = False, save_ext = 'tmp/experiment0/'):\n",
        "        \n",
        "        '''Plays a game from start to finish. '''\n",
        "        \n",
        "        reward = 0\n",
        "        \n",
        "        if save_frames:\n",
        "            env = wrappers.Monitor(self.env, save_ext, force=True)\n",
        "        else:\n",
        "            env = self.env\n",
        "            \n",
        "        state= env.reset()\n",
        "        \n",
        "        self.history = deque()\n",
        "        for i in range(self.max_rounds):\n",
        "            if save_frames: env.render()\n",
        "            action = self.pi(state)\n",
        "            newstate, r, done, _ = self.env.step(action)\n",
        "            self.history.append((state, action, r, done, newstate))\n",
        "            if self.clip_reward:\n",
        "                r = max(min(r, 1), -1)\n",
        "            reward += r\n",
        "            if done: break\n",
        "                \n",
        "        if save_frames: \n",
        "            env.close(); self.env.close()\n",
        "        return reward"
      ],
      "execution_count": 0,
      "outputs": []
    },
    {
      "metadata": {
        "id": "_DM80tqh-Ven",
        "colab_type": "code",
        "colab": {}
      },
      "cell_type": "code",
      "source": [
        "random_guy = RandomAgent(ENV)"
      ],
      "execution_count": 0,
      "outputs": []
    },
    {
      "metadata": {
        "id": "dCPxcJrT-XBA",
        "colab_type": "code",
        "outputId": "72b8f48e-fd41-449e-ccde-bcb7612b672c",
        "colab": {
          "base_uri": "https://localhost:8080/",
          "height": 35
        }
      },
      "cell_type": "code",
      "source": [
        "random_guy.playPol()"
      ],
      "execution_count": 0,
      "outputs": [
        {
          "output_type": "execute_result",
          "data": {
            "text/plain": [
              "-320.556853800019"
            ]
          },
          "metadata": {
            "tags": []
          },
          "execution_count": 13
        }
      ]
    },
    {
      "metadata": {
        "id": "M1iafSrN_RtX",
        "colab_type": "text"
      },
      "cell_type": "markdown",
      "source": [
        "## Create Neural Architecture"
      ]
    },
    {
      "metadata": {
        "id": "CeDMXTWh_-u-",
        "colab_type": "code",
        "colab": {}
      },
      "cell_type": "code",
      "source": [
        "arch = nn.Sequential(nn.Linear(8, 50), \n",
        "                    nn.ReLU(), \n",
        "                    nn.BatchNorm1d(50), \n",
        "                    nn.Linear(50, 4) )           "
      ],
      "execution_count": 0,
      "outputs": []
    },
    {
      "metadata": {
        "id": "2b_U9tkNC0kT",
        "colab_type": "code",
        "outputId": "40553f8c-4de0-4eb5-f65f-8213b30ec4f3",
        "colab": {
          "base_uri": "https://localhost:8080/",
          "height": 35
        }
      },
      "cell_type": "code",
      "source": [
        "state = torch.tensor(ENV.reset()[None])\n",
        "arch.eval()\n",
        "with torch.no_grad():\n",
        "    print(arch(state).numpy()[0])"
      ],
      "execution_count": 0,
      "outputs": [
        {
          "output_type": "stream",
          "text": [
            "[-0.14583129  0.0443883  -0.16089794 -0.16389734]\n"
          ],
          "name": "stdout"
        }
      ]
    },
    {
      "metadata": {
        "id": "wjioOSsQC3yi",
        "colab_type": "text"
      },
      "cell_type": "markdown",
      "source": [
        "## Define Agent"
      ]
    },
    {
      "metadata": {
        "id": "4Sd_JPRLFCqs",
        "colab_type": "code",
        "colab": {}
      },
      "cell_type": "code",
      "source": [
        "def softmax(x):\n",
        "    ex = np.exp(x)\n",
        "    return ex / np.sum(ex)"
      ],
      "execution_count": 0,
      "outputs": []
    },
    {
      "metadata": {
        "id": "4AJmDXQwC69y",
        "colab_type": "code",
        "colab": {}
      },
      "cell_type": "code",
      "source": [
        "class Policy_Agent(RandomAgent):\n",
        "    \n",
        "    def __init__(self, env, arch):\n",
        "        super().__init__(env)\n",
        "        self.arch = arch\n",
        "        \n",
        "    def pi(self, state):\n",
        "        return np.random.choice(4, 1, True, p = self.getProbs(state))[0]\n",
        "        \n",
        "    def getProbs(self, state):\n",
        "        return softmax(self.getNetOutput(state))\n",
        "    \n",
        "    def getNetOutput(self, state):\n",
        "        self.arch.eval()\n",
        "        with torch.no_grad():\n",
        "            inp = torch.tensor(state[None])\n",
        "            return self.arch(inp).numpy()[0]"
      ],
      "execution_count": 0,
      "outputs": []
    },
    {
      "metadata": {
        "id": "J510SkQmELX-",
        "colab_type": "code",
        "colab": {}
      },
      "cell_type": "code",
      "source": [
        "policy_guy = Policy_Agent(ENV, arch)"
      ],
      "execution_count": 0,
      "outputs": []
    },
    {
      "metadata": {
        "id": "hhqQdFAwEQCu",
        "colab_type": "code",
        "outputId": "fb7b5833-25d7-4aa3-ad1e-a1c772b606dd",
        "colab": {
          "base_uri": "https://localhost:8080/",
          "height": 35
        }
      },
      "cell_type": "code",
      "source": [
        "policy_guy.playPol()"
      ],
      "execution_count": 0,
      "outputs": [
        {
          "output_type": "execute_result",
          "data": {
            "text/plain": [
              "-190.87872821638484"
            ]
          },
          "metadata": {
            "tags": []
          },
          "execution_count": 19
        }
      ]
    },
    {
      "metadata": {
        "id": "0lKxObk1EVR-",
        "colab_type": "text"
      },
      "cell_type": "markdown",
      "source": [
        "## Try out ptan\n",
        "\n",
        "Never used this library before. Let's try it."
      ]
    },
    {
      "metadata": {
        "id": "x2JZUp-jFwQN",
        "colab_type": "code",
        "colab": {}
      },
      "cell_type": "code",
      "source": [
        "agent = ptan.agent.PolicyAgent(arch.cuda(), preprocessor=ptan.agent.float32_preprocessor, apply_softmax=True, device='cuda')"
      ],
      "execution_count": 0,
      "outputs": []
    },
    {
      "metadata": {
        "id": "vdUeFkEVGFA-",
        "colab_type": "code",
        "colab": {}
      },
      "cell_type": "code",
      "source": [
        "exp_source = ptan.experience.ExperienceSourceFirstLast(ENV, agent, gamma=DEFAULT_PARAMS['gamma'], steps_count=10)"
      ],
      "execution_count": 0,
      "outputs": []
    },
    {
      "metadata": {
        "id": "2BAJB7DRGUmF",
        "colab_type": "code",
        "outputId": "fbb4cdc8-6e0e-4419-dffc-a3c2c1b33808",
        "colab": {
          "base_uri": "https://localhost:8080/",
          "height": 91
        }
      },
      "cell_type": "code",
      "source": [
        "next(iter(exp_source))"
      ],
      "execution_count": 0,
      "outputs": [
        {
          "output_type": "execute_result",
          "data": {
            "text/plain": [
              "ExperienceFirstLast(state=array([ 0.00146408,  1.4121182 ,  0.14827986,  0.05325324, -0.00168971,\n",
              "       -0.03358761,  0.        ,  0.        ], dtype=float32), action=3, reward=-1.310207550652947, last_state=array([ 0.0188241 ,  1.4006064 ,  0.19714774, -0.12224919, -0.0503949 ,\n",
              "       -0.10318725,  0.        ,  0.        ], dtype=float32))"
            ]
          },
          "metadata": {
            "tags": []
          },
          "execution_count": 78
        }
      ]
    },
    {
      "metadata": {
        "id": "q1k3iZpsGmHU",
        "colab_type": "text"
      },
      "cell_type": "markdown",
      "source": [
        "Okay, so it seems this library just feeds us the state, action, reward tuples we need."
      ]
    },
    {
      "metadata": {
        "id": "0vuMszyBJqET",
        "colab_type": "code",
        "colab": {}
      },
      "cell_type": "code",
      "source": [
        ""
      ],
      "execution_count": 0,
      "outputs": []
    }
  ]
}